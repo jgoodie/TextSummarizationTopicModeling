{
 "cells": [
  {
   "cell_type": "markdown",
   "metadata": {},
   "source": [
    "# Text Summarization using Python"
   ]
  },
  {
   "cell_type": "code",
   "execution_count": 38,
   "metadata": {},
   "outputs": [],
   "source": [
    "import re\n",
    "import json\n",
    "import pandas as pd\n",
    "import numpy as np\n",
    "import networkx as nx\n",
    "from string import punctuation\n",
    "from collections import Counter\n",
    "import nltk\n",
    "from nltk.corpus import stopwords\n",
    "from nltk.cluster.util import cosine_distance\n",
    "from nltk import sent_tokenize, word_tokenize, pos_tag\n",
    "from sklearn.feature_extraction.stop_words import ENGLISH_STOP_WORDS as stop_words\n",
    "from sklearn.decomposition import LatentDirichletAllocation\n",
    "from sklearn.feature_extraction.text import CountVectorizer"
   ]
  },
  {
   "cell_type": "code",
   "execution_count": 2,
   "metadata": {},
   "outputs": [],
   "source": [
    "class SimpleSummarize:\n",
    "    def __init__(self, filename=None, k=None):\n",
    "        self.txt = None\n",
    "        self.word_tokens = None\n",
    "        self.sent_tokens = None\n",
    "        self.word_freq = None\n",
    "        self.freq_dist = {}\n",
    "        self.sent_scores = {}\n",
    "        self.top_sents = None\n",
    "        self.max_len = 40\n",
    "        self.summary = ''\n",
    "        self.scores = []\n",
    "        self.english_stopwords = set(stopwords.words('english')) | stop_words\n",
    "        if filename and k:\n",
    "            self.load_file_from_disk(filename)\n",
    "            self.tokenize()\n",
    "            self.word_freq_dist()\n",
    "            self.score_sentences()\n",
    "            self.summarize(k)\n",
    "    \n",
    "    def load_file_from_disk(self, filename):\n",
    "        with open(filename, \"r\") as file:\n",
    "            self.txt = file.read().replace(\"\\n\", \" \")\n",
    "            self.txt = self.txt.replace(\"\\'\",\"\")\n",
    "    \n",
    "    def tokenize(self):\n",
    "        self.word_tokens = self.tokenizer(self.txt)\n",
    "        #self.sent_tokens = self.simple_sent_tokenizer(self.txt)\n",
    "        self.sent_tokens = sent_tokenize(self.txt)\n",
    "\n",
    "    def simple_sent_tokenizer(self, s):\n",
    "        sents = []\n",
    "        for sent in s.split('.'):\n",
    "            sents.append(sent.strip())\n",
    "        return sents\n",
    "        \n",
    "    def tokenizer(self,txt):\n",
    "        txt = txt.lower()\n",
    "        word_tokens = word_tokenize(txt.lower())\n",
    "        word_tokens = [w for w in word_tokens if w not in self.english_stopwords and re.match('[a-zA-Z-][a-zA-Z-]{2,}', w)]\n",
    "        return word_tokens\n",
    "    \n",
    "    def word_freq_dist(self):\n",
    "        self.word_freq = nltk.FreqDist(self.word_tokens)\n",
    "        most_freq_count = max(self.word_freq.values())\n",
    "        for k,v in self.word_freq.items():\n",
    "            self.freq_dist[k] = v/most_freq_count\n",
    "    \n",
    "    def score_sentences(self):\n",
    "        for sent in self.sent_tokens:\n",
    "            words = self.tokenizer(sent)\n",
    "            for word in words:\n",
    "                if word.lower() in self.freq_dist.keys():\n",
    "                    if len(words) < self.max_len:\n",
    "                        # if key does not exist add it and the freq_dist for the first word\n",
    "                        if sent not in self.sent_scores.keys():\n",
    "                            self.sent_scores[sent] = self.freq_dist[word.lower()]\n",
    "                        else: \n",
    "                            # the key exists and we just add the freq_dist of the following words. \n",
    "                            # We are just summing up the freq_dists for the sentence\n",
    "                            self.sent_scores[sent] += self.freq_dist[word.lower()]\n",
    "    \n",
    "    def summarize(self, k):\n",
    "        self.top_sents = Counter(self.sent_scores)\n",
    "        for t in self.top_sents.most_common(k):\n",
    "            self.summary += t[0].strip()+'. '\n",
    "            self.scores.append((t[1],t[0]))\n",
    "    "
   ]
  },
  {
   "cell_type": "code",
   "execution_count": 3,
   "metadata": {},
   "outputs": [
    {
     "data": {
      "text/plain": [
       "'The Judiciary Committee hearing is the latest sign that House Democrats are moving forward with impeachment proceedings against the President following the two-month investigation led by the House Intelligence Committee into allegations that Trump pushed Ukraine to investigate his political rivals while a White House meeting and $400 million in security aid were withheld from Kiev.. The House Judiciary Committee has invited President Donald Trump or his counsel to participate in the panels first impeachment hearing next week as the House moves another step closer to impeaching the President.. READ: Judiciary Chairman&#39;s invite to Trump and his lawyers to take part in upcoming impeachment hearings The hearing announcement comes as the Intelligence Committee plans to release its report summarizing the findings of its investigation to the House Judiciary Committee soon after Congress returns from its Thanksgiving recess next week.. '"
      ]
     },
     "execution_count": 3,
     "metadata": {},
     "output_type": "execute_result"
    }
   ],
   "source": [
    "# foo = SimpleSummarize()\n",
    "# foo.load_file_from_disk(\"CNNImpeachmentArticle.txt\")\n",
    "# foo.tokenize()\n",
    "# foo.word_freq_dist()\n",
    "# foo.score_sentences()\n",
    "# foo.summarize(3)\n",
    "# foo.summary\n",
    "foo = SimpleSummarize(filename=\"CNNImpeachmentArticle.txt\", k=3)\n",
    "foo.summary"
   ]
  },
  {
   "cell_type": "markdown",
   "metadata": {},
   "source": [
    "## Gensim\n",
    "\n",
    "https://towardsdatascience.com/text-summarization-in-python-76c0a41f0dc4"
   ]
  },
  {
   "cell_type": "code",
   "execution_count": 3,
   "metadata": {},
   "outputs": [],
   "source": [
    "from gensim.summarization.summarizer import summarize\n",
    "from gensim.test.utils import common_dictionary, common_corpus\n",
    "from gensim.models import LsiModel"
   ]
  },
  {
   "cell_type": "code",
   "execution_count": 116,
   "metadata": {},
   "outputs": [
    {
     "name": "stdout",
     "output_type": "stream",
     "text": [
      "articles\t\t   requirements.txt\r\n",
      "CNNImpeachmentArticle.txt  simple_summarize.py\r\n",
      "impeachment_data\t   Text Summarization and Topic Modeling.ipynb\r\n",
      "README.md\r\n"
     ]
    }
   ],
   "source": [
    "!ls"
   ]
  },
  {
   "cell_type": "code",
   "execution_count": 117,
   "metadata": {
    "scrolled": true
   },
   "outputs": [
    {
     "name": "stdout",
     "output_type": "stream",
     "text": [
      "House Judiciary Chairman Jerry Nadler sent a letter to Trump on Tuesday notifying him of the hearing and inviting the President or his counsel to participate, including asking questions of the witnesses.\n",
      "The Judiciary Committee hearing is the latest sign that House Democrats are moving forward with impeachment proceedings against the President following the two-month investigation led by the House Intelligence Committee into allegations that Trump pushed Ukraine to investigate his political rivals while a White House meeting and $400 million in security aid were withheld from Kiev.\n",
      "Nadler asked Trump to respond by Sunday on whether the White House wanted to participate in the hearings, as well as who would act as the President's counsel for the proceedings.\n"
     ]
    }
   ],
   "source": [
    "with open(\"CNNImpeachmentArticle.txt\", \"r\") as file:\n",
    "    text = file.read()\n",
    "print(summarize(text))"
   ]
  },
  {
   "cell_type": "code",
   "execution_count": 1,
   "metadata": {},
   "outputs": [],
   "source": [
    "text2 = \"\"\"We all know that music is a powerful influencer. A movie without a soundtrack doesn’t provoke the same emotional journey. A workout without a pump-up anthem can feel like a drag. But is there a way to quantify these reactions? And if so, could they be reverse-engineered and put to use?\n",
    "\n",
    "In a new paper, researchers at the University of Southern California mapped out how things like  pitch, rhythm, and harmony induce different types of brain activity, physiological reactions (heat, sweat, and changes in electrical response), and emotions (happiness or sadness), and how machine learning could use those relationships to predict how people might respond to a new piece of music. The results, presented at a conference last week on the intersections of computer science and art, show how we may one day be able to engineer targeted musical experiences for purposes ranging from therapy to movies.\n",
    "\n",
    "The research is part of the lab’s broader goal to understand how different forms of media, such as films and TV ads as well as music, affect people’s bodies and brains. “Once we understand how media can affect your various emotions, then we can try to productively use it for actually supporting or enhancing human experiences,” says Shrikanth Narayanan, a professor at USC and the principal investigator in the lab.\"\"\""
   ]
  },
  {
   "cell_type": "code",
   "execution_count": 4,
   "metadata": {
    "scrolled": true
   },
   "outputs": [
    {
     "data": {
      "text/plain": [
       "'In a new paper, researchers at the University of Southern California mapped out how things like  pitch, rhythm, and harmony induce different types of brain activity, physiological reactions (heat, sweat, and changes in electrical response), and emotions (happiness or sadness), and how machine learning could use those relationships to predict how people might respond to a new piece of music.'"
      ]
     },
     "execution_count": 4,
     "metadata": {},
     "output_type": "execute_result"
    }
   ],
   "source": [
    "summarize(text2)"
   ]
  },
  {
   "cell_type": "code",
   "execution_count": 41,
   "metadata": {},
   "outputs": [],
   "source": [
    "text3 = \"\"\"Republican South Carolina Senator Lindsey Graham is statistically tied with Democratic challenger Jaime Harrison, with the staunch pro-Trump incumbent seeing his favorability ratings plummet among independent voters.\n",
    "\n",
    "Graham, who was first elected to the U.S. Senate in 2002, is clinging to a 2-percentage point lead over Harrison, 47 to 45 percent, with nearly 10 percent of voters surveyed still remaining undecided about their 2020 vote. As the Change Research/Post and Courier newspaper poll notes, Graham performs poorly in hypothetical November election matchups as well as with voters who do not identify solely as Republicans. The statistical dead heat between Graham and Harrison, who has pulled in record fundraising in recent weeks, comes as the GOP senator has become one of President Donald Trump's most outspoken supporters during the ongoing impeachment inquiry.\n",
    "\n",
    "Trump won the traditionally-Republican state of South Carolina in the 2016 presidential election by a margin of nearly 15 percentage points over Democrat Hillary Clinton.\n",
    "\n",
    "\"[Senator Lindsey Graham] looks extremely vulnerable against Democratic contender Jaime Harrison,\" the South Carolina pollsters noted among their key findings. \"While South Carolina does not support impeaching President Trump, a majority of voters would like Senator Graham to approach the impeachment inquiry with an open mind, rather than leap to the president's defense before hearing evidence.\"\n",
    "\n",
    "Graham has not always been such a staunch defender of Trump, with the longtime Republican senator infamously remarking during the 2016 primary, \"If we nominate Trump, we will get destroyed......and we will deserve it.\"\n",
    "\n",
    "\n",
    "Lindsey Graham\n",
    "✔\n",
    "@LindseyGrahamSC\n",
    "If we nominate Trump, we will get destroyed.......and we will deserve it.\n",
    "\n",
    "162K\n",
    "1:03 PM - May 3, 2016\n",
    "Twitter Ads info and privacy\n",
    "143K people are talking about this\n",
    "However, Graham made recent comments that he doubts the president so little that he doesn't intend on being a \"fair juror,\" if and when the House votes to send the articles of impeachment over to the Senate.\n",
    "\n",
    "Harrison told residents of Greenville, South Carolina on Saturday that Graham is \"not worthy of this state ... the winds of change are blowing my friends,\" the Greenville News reported. Responding to the neck-and-neck South Carolina poll on Twitter, Harrison asked his supporters and potential voters to remember that any campaign is possible in the current political environment.\n",
    "\n",
    "\"Running against Senator Graham is a tough climb, but it's also a hill worth climbing. I've faced things folks have deemed impossible my entire life, and this is yet another journey where I prove that in America, the impossible is always possible,\" Harrison wrote.\n",
    "\n",
    "Harrison declared his candidacy in June and has previously served as chair and senior counselor at the Democratic National Committee, as well as heading the Democratic Party of South Carolina. The Yale University graduate and South Carolina native was also an advisor to Congressman James Clyburn.\n",
    "\n",
    "\"It's an uphill battle, no question, but Jaime is uniquely qualified,\" said House Majority Whip Clyburn, told The Washington Post last week. \"He has the kind of life experiences that allow him to really connect with ordinary people.\"\n",
    "\n",
    "The Change Research surveyed 998 likely general election voters in the state of South Carolina between December 6-11. The poll found only 38 percent of likely voters said they will \"definitely\" or \"probably\" vote for Graham next November. Trump has higher favorability numbers than Graham, with the Republican senator holding onto the support of less than half of those surveyed. In terms of the presidential election, former Vice President Joe Biden leads the Democratic primary with 27 percent, followed by Vermont Senator Bernie Sanders with 20 percent of the vote.\"\"\"\n",
    "\n",
    "text3 = text3.strip().replace(\"\\n\",\" \")"
   ]
  },
  {
   "cell_type": "code",
   "execution_count": 46,
   "metadata": {},
   "outputs": [
    {
     "data": {
      "text/plain": [
       "'Republican South Carolina Senator Lindsey Graham is statistically tied with Democratic challenger Jaime Harrison, with the staunch pro-Trump incumbent seeing his favorability ratings plummet among independent voters.  Graham, who was first elected to the U.S. Senate in 2002, is clinging to a 2-percentage point lead over Harrison, 47 to 45 percent, with nearly 10 percent of voters surveyed still remaining undecided about their 2020 vote. As the Change Research/Post and Courier newspaper poll notes, Graham performs poorly in hypothetical November election matchups as well as with voters who do not identify solely as Republicans. The statistical dead heat between Graham and Harrison, who has pulled in record fundraising in recent weeks, comes as the GOP senator has become one of President Donald Trumps most outspoken supporters during the ongoing impeachment inquiry.  Trump won the traditionally-Republican state of South Carolina in the 2016 presidential election by a margin of nearly 15 percentage points over Democrat Hillary Clinton.  \"[Senator Lindsey Graham] looks extremely vulnerable against Democratic contender Jaime Harrison,\" the South Carolina pollsters noted among their key findings. \"While South Carolina does not support impeaching President Trump, a majority of voters would like Senator Graham to approach the impeachment inquiry with an open mind, rather than leap to the presidents defense before hearing evidence.\"  Graham has not always been such a staunch defender of Trump, with the longtime Republican senator infamously remarking during the 2016 primary, \"If we nominate Trump, we will get destroyed......and we will deserve it.\"   Lindsey Graham ✔ @LindseyGrahamSC If we nominate Trump, we will get destroyed.......and we will deserve it.  162K 1:03 PM - May 3, 2016 Twitter Ads info and privacy 143K people are talking about this However, Graham made recent comments that he doubts the president so little that he doesnt intend on being a \"fair juror,\" if and when the House votes to send the articles of impeachment over to the Senate.  Harrison told residents of Greenville, South Carolina on Saturday that Graham is \"not worthy of this state ... the winds of change are blowing my friends,\" the Greenville News reported. Responding to the neck-and-neck South Carolina poll on Twitter, Harrison asked his supporters and potential voters to remember that any campaign is possible in the current political environment.  \"Running against Senator Graham is a tough climb, but its also a hill worth climbing. Ive faced things folks have deemed impossible my entire life, and this is yet another journey where I prove that in America, the impossible is always possible,\" Harrison wrote.  Harrison declared his candidacy in June and has previously served as chair and senior counselor at the Democratic National Committee, as well as heading the Democratic Party of South Carolina. The Yale University graduate and South Carolina native was also an advisor to Congressman James Clyburn.  \"Its an uphill battle, no question, but Jaime is uniquely qualified,\" said House Majority Whip Clyburn, told The Washington Post last week. \"He has the kind of life experiences that allow him to really connect with ordinary people.\"  The Change Research surveyed 998 likely general election voters in the state of South Carolina between December 6-11. The poll found only 38 percent of likely voters said they will \"definitely\" or \"probably\" vote for Graham next November. Trump has higher favorability numbers than Graham, with the Republican senator holding onto the support of less than half of those surveyed. In terms of the presidential election, former Vice President Joe Biden leads the Democratic primary with 27 percent, followed by Vermont Senator Bernie Sanders with 20 percent of the vote.'"
      ]
     },
     "execution_count": 46,
     "metadata": {},
     "output_type": "execute_result"
    }
   ],
   "source": [
    "text3.replace(\"\\'\",\"\")"
   ]
  },
  {
   "cell_type": "code",
   "execution_count": null,
   "metadata": {},
   "outputs": [],
   "source": []
  },
  {
   "cell_type": "code",
   "execution_count": null,
   "metadata": {},
   "outputs": [],
   "source": []
  },
  {
   "cell_type": "code",
   "execution_count": null,
   "metadata": {},
   "outputs": [],
   "source": []
  },
  {
   "cell_type": "markdown",
   "metadata": {},
   "source": [
    "## Another text summarizer\n",
    "\n",
    "https://towardsdatascience.com/understand-text-summarization-and-create-your-own-summarizer-in-python-b26a9f09fc70"
   ]
  },
  {
   "cell_type": "code",
   "execution_count": 97,
   "metadata": {},
   "outputs": [],
   "source": [
    "from nltk.corpus import stopwords\n",
    "from nltk.cluster.util import cosine_distance\n",
    "import numpy as np\n",
    "import networkx as nx\n",
    "from nltk.corpus import stopwords\n",
    "from sklearn.feature_extraction.stop_words import ENGLISH_STOP_WORDS as sw"
   ]
  },
  {
   "cell_type": "code",
   "execution_count": 35,
   "metadata": {},
   "outputs": [],
   "source": [
    "def read_article(file_name):\n",
    "    with open(file_name, 'r') as file:\n",
    "        txt = file.read()\n",
    "        sent_tokens = sent_tokenize(txt)\n",
    "        return sent_tokens"
   ]
  },
  {
   "cell_type": "code",
   "execution_count": 73,
   "metadata": {},
   "outputs": [],
   "source": [
    "def sentence_similarity(sent1, sent2, stopwords=None):\n",
    "    if stopwords is None:\n",
    "        stopwords = []\n",
    "    sent1 = [w.lower() for w in sent1]\n",
    "    sent2 = [w.lower() for w in sent2]\n",
    "    all_words = list(set(sent1 + sent2))\n",
    "    vector1 = [0] * len(all_words)\n",
    "    vector2 = [0] * len(all_words)\n",
    "    # build the vector for the first sentence\n",
    "    for w in sent1:\n",
    "        if w in stopwords:\n",
    "            continue\n",
    "        vector1[all_words.index(w)] += 1\n",
    "    # build the vector for the second sentence\n",
    "    for w in sent2:\n",
    "        if w in stopwords:\n",
    "            continue\n",
    "        vector2[all_words.index(w)] += 1\n",
    "    return 1 - cosine_distance(vector1, vector2)"
   ]
  },
  {
   "cell_type": "code",
   "execution_count": 54,
   "metadata": {},
   "outputs": [],
   "source": [
    "def build_similarity_matrix(sentences, stop_words):\n",
    "    similarity_matrix = np.zeros([len(sentences), len(sentences)])\n",
    "    for idx1 in range(len(sentences)):\n",
    "        for idx2 in range(len(sentences)):\n",
    "            if idx1 == idx2:\n",
    "                continue\n",
    "            similarity_matrix[idx1][idx2] = sentence_similarity(sentences[idx1], sentences[idx2], stop_words)\n",
    "    return similarity_matrix"
   ]
  },
  {
   "cell_type": "code",
   "execution_count": 111,
   "metadata": {},
   "outputs": [],
   "source": [
    "def generate_summary(file_name, top_n=5):\n",
    "    # set(stopwords.words('english')) | stop_words # Union operator for set() in python\n",
    "    stop_words = set(stopwords.words('english')) | sw\n",
    "    summarize_text = []\n",
    "    sentences = read_article(file_name)\n",
    "    sentence_similarity_matrix = build_similarity_matrix(sentences, stop_words)\n",
    "    sentence_similarity_graph = nx.from_numpy_array(sentence_similarity_matrix)\n",
    "    scores = nx.pagerank(sentence_similarity_graph)\n",
    "    ranked_sentences = sorted(((scores[i],s) for i,s in enumerate(sentences)), reverse=True)\n",
    "    #print(\"Indexes of top ranked_sentence order are \", ranked_sentences)    \n",
    "    for i in range(top_n):\n",
    "        summarize_text.append(\"\".join(ranked_sentences[i][1]))\n",
    "    print(\"Summarize Text: \\n\", \". \".join(summarize_text))"
   ]
  },
  {
   "cell_type": "code",
   "execution_count": 74,
   "metadata": {
    "scrolled": true
   },
   "outputs": [
    {
     "name": "stdout",
     "output_type": "stream",
     "text": [
      "0.8760375907831333\n",
      "0.7978031705815032\n",
      "0.8268741925060656\n"
     ]
    }
   ],
   "source": [
    "s1 = 'This is a sentence that I wrote.'\n",
    "s2 = 'I wrote a sentence and drew a picture.'\n",
    "s3 = 'Those are some green apples.'\n",
    "print(sentence_similarity(s1, s2, stop_words))\n",
    "print(sentence_similarity(s1, s3, stop_words))\n",
    "print(sentence_similarity(s2, s3, stop_words))"
   ]
  },
  {
   "cell_type": "code",
   "execution_count": 83,
   "metadata": {},
   "outputs": [
    {
     "data": {
      "text/plain": [
       "array([[0.        , 0.980023  , 0.93995675, ..., 0.96456677, 0.90221968,\n",
       "        0.9808089 ],\n",
       "       [0.980023  , 0.        , 0.97076679, ..., 0.97635149, 0.92032256,\n",
       "        0.9755214 ],\n",
       "       [0.93995675, 0.97076679, 0.        , ..., 0.94083432, 0.92680154,\n",
       "        0.94693094],\n",
       "       ...,\n",
       "       [0.96456677, 0.97635149, 0.94083432, ..., 0.        , 0.92047436,\n",
       "        0.96230338],\n",
       "       [0.90221968, 0.92032256, 0.92680154, ..., 0.92047436, 0.        ,\n",
       "        0.90988747],\n",
       "       [0.9808089 , 0.9755214 , 0.94693094, ..., 0.96230338, 0.90988747,\n",
       "        0.        ]])"
      ]
     },
     "execution_count": 83,
     "metadata": {},
     "output_type": "execute_result"
    }
   ],
   "source": [
    "sentences = read_article(\"impeachment_data/cnn_article.txt\")\n",
    "build_similarity_matrix(sentences, stop_words)"
   ]
  },
  {
   "cell_type": "code",
   "execution_count": 118,
   "metadata": {},
   "outputs": [
    {
     "name": "stdout",
     "output_type": "stream",
     "text": [
      "Summarize Text: \n",
      " The resolution states that should the Trump administration refuse to cooperate in the impeachment proceedings — such as denying witnesses, which it has done — Nadler can \"impose appropriate remedies, including by denying specific requests by the President or his counsel under these procedures to call or question witnesses.\". The Judiciary Committee hearing is the latest sign that House Democrats are moving forward with impeachment proceedings against the President following the two-month investigation led by the House Intelligence Committee into allegations that Trump pushed Ukraine to investigate his political rivals while a White House meeting and $400 million in security aid were withheld from Kiev.. Nadler asked Trump to respond by Sunday on whether the White House wanted to participate in the hearings, as well as who would act as the President's counsel for the proceedings.. The committee announced that it would hold a hearing December 4 on the \"constitutional grounds for presidential impeachment,\" with a panel of expert witnesses testifying.. Under the House resolution passed last month setting the rules of the impeachment proceedings, the President's counsel can question witnesses and raise objections, though Nadler has plenty of discretion in the proceedings as chairman.\n"
     ]
    }
   ],
   "source": [
    "generate_summary(\"CNNImpeachmentArticle.txt\", top_n=5)"
   ]
  },
  {
   "cell_type": "code",
   "execution_count": null,
   "metadata": {},
   "outputs": [],
   "source": []
  },
  {
   "cell_type": "code",
   "execution_count": null,
   "metadata": {},
   "outputs": [],
   "source": []
  },
  {
   "cell_type": "code",
   "execution_count": null,
   "metadata": {},
   "outputs": [],
   "source": []
  },
  {
   "cell_type": "code",
   "execution_count": null,
   "metadata": {},
   "outputs": [],
   "source": []
  },
  {
   "cell_type": "code",
   "execution_count": null,
   "metadata": {},
   "outputs": [],
   "source": []
  },
  {
   "cell_type": "code",
   "execution_count": null,
   "metadata": {},
   "outputs": [],
   "source": []
  },
  {
   "cell_type": "code",
   "execution_count": null,
   "metadata": {},
   "outputs": [],
   "source": []
  },
  {
   "cell_type": "markdown",
   "metadata": {},
   "source": [
    "# Text Extraction from PDFs"
   ]
  },
  {
   "cell_type": "code",
   "execution_count": null,
   "metadata": {},
   "outputs": [],
   "source": [
    "import PyPDF2"
   ]
  },
  {
   "cell_type": "code",
   "execution_count": null,
   "metadata": {},
   "outputs": [],
   "source": [
    "pdf = 'impeachment_data/20191203_-_full_report___hpsci_impeachment_inquiry_-_20191203.pdf'\n",
    "pd_file_obj = open(pdf, 'rb')\n",
    "pdf_reader = PyPDF2.PdfFileReader(pd_file_obj)\n",
    "num_pages = pdf_reader.getNumPages()\n",
    "full_text = ''\n",
    "for p in range(num_pages):\n",
    "    full_text = full_text + pdf_reader.getPage(p).extractText().strip().replace('\\n','')\n",
    "with open('impeachment_data/trump_impeachment_inquiry.txt', 'w+') as file:\n",
    "    file.write(full_text)\n",
    "    file.close()"
   ]
  },
  {
   "cell_type": "code",
   "execution_count": null,
   "metadata": {},
   "outputs": [],
   "source": [
    "full_text[:1000]"
   ]
  },
  {
   "cell_type": "code",
   "execution_count": null,
   "metadata": {},
   "outputs": [],
   "source": [
    "impeachment_summary = SimpleSummarize(filename=\"impeachment_data/trump_impeachment_inquiry.txt\", k=3)\n",
    "impeachment_summary.summary"
   ]
  },
  {
   "cell_type": "code",
   "execution_count": null,
   "metadata": {},
   "outputs": [],
   "source": [
    "impeachment_summary.scores"
   ]
  },
  {
   "cell_type": "markdown",
   "metadata": {},
   "source": [
    "# Topic Modeling\n",
    "\n",
    "https://nlpforhackers.io/topic-modeling/"
   ]
  },
  {
   "cell_type": "markdown",
   "metadata": {},
   "source": [
    "# Topic Modeling Algorithms\n",
    "\n",
    "There are several algorithms for doing topic modeling. The most popular ones include\n",
    "\n",
    "LDA – Latent Dirichlet Allocation – The one we’ll be focusing in this tutorial. Its foundations are Probabilistic Graphical Models\n",
    "\n",
    "LSA or LSI – Latent Semantic Analysis or Latent Semantic Indexing – Uses Singular Value Decomposition (SVD) on the Document-Term Matrix. Based on Linear Algebra\n",
    "\n",
    "NMF – Non-Negative Matrix Factorization – Based on Linear Algebra"
   ]
  },
  {
   "cell_type": "markdown",
   "metadata": {},
   "source": [
    "# Using Gensim for Topic Modeling"
   ]
  },
  {
   "cell_type": "code",
   "execution_count": 92,
   "metadata": {},
   "outputs": [],
   "source": [
    "import re\n",
    "from glob import glob\n",
    "from gensim import models, corpora, similarities\n",
    "from gensim.summarization.summarizer import summarize\n",
    "from nltk.corpus import stopwords\n",
    "from nltk import sent_tokenize, word_tokenize, pos_tag\n",
    "from sklearn.feature_extraction.stop_words import ENGLISH_STOP_WORDS as stop_words"
   ]
  },
  {
   "cell_type": "code",
   "execution_count": 99,
   "metadata": {},
   "outputs": [],
   "source": [
    "def load_files_from_disk(data_dir):\n",
    "    text_data_list = []\n",
    "    file_list = glob(pathname=data_dir + '/*txt')\n",
    "    for file in file_list: \n",
    "        with open(file, \"r\") as f:\n",
    "            text_data_list.append(f.read())\n",
    "    return text_data_list"
   ]
  },
  {
   "cell_type": "code",
   "execution_count": 225,
   "metadata": {},
   "outputs": [],
   "source": [
    "class SummaryTopics:\n",
    "    def __init__(self, text_data, num_topics=4):\n",
    "        self.text_data = text_data\n",
    "        self.num_topics = num_topics\n",
    "        self.tokenized_data = []\n",
    "        self.dictionary = None\n",
    "        self.corpus = None\n",
    "        self.lda_model = None\n",
    "        self.lsi_model = None\n",
    "        self.stopwords = set(stopwords.words('english')) | stop_words\n",
    "    \n",
    "    def text_summarize(self, text):\n",
    "        text_data = text.strip().replace(\"\\n\",\" \")\n",
    "        summary = summarize(text_data).strip().replace(\"\\n\",\" \")\n",
    "        return jsonify(summary)\n",
    "    \n",
    "    def clean_text(self, text):\n",
    "        tokenized_text = word_tokenize(text.lower())\n",
    "        cleaned_text = [t for t in tokenized_text if t not in self.stopwords and re.match('[a-zA-Z\\-][a-zA-Z\\-]{2,}', t)]\n",
    "        return cleaned_text\n",
    "    \n",
    "    def tokenize_text(self):\n",
    "        # For gensim we need to tokenize the data and filter out stopwords\n",
    "        for text in self.text_data:\n",
    "            self.tokenized_data.append(self.clean_text(text))\n",
    "        return self.tokenized_data\n",
    "    \n",
    "    def build_dictionary(self):\n",
    "        # Build a Gensim Dictionary - associate word to numeric id\n",
    "        self.dictionary = corpora.Dictionary(self.tokenized_data)\n",
    "        return self.dictionary\n",
    "    \n",
    "    def build_corpus(self):\n",
    "        # Transform the collection of texts to a numerical form\n",
    "        self.corpus = [self.dictionary.doc2bow(text) for text in self.tokenized_data]\n",
    "        return self.corpus\n",
    "    \n",
    "    def build_models(self):\n",
    "        # Build the LDA model and the LSI model\n",
    "        self.lda_model = models.LdaModel(corpus=self.corpus, \n",
    "                                         num_topics=self.num_topics, \n",
    "                                         id2word=self.dictionary)\n",
    "        self.lsi_model = models.LsiModel(corpus=self.corpus, \n",
    "                                         num_topics=self.num_topics, \n",
    "                                         id2word=self.dictionary)\n",
    "    \n",
    "    \n",
    "    "
   ]
  },
  {
   "cell_type": "code",
   "execution_count": 241,
   "metadata": {
    "scrolled": false
   },
   "outputs": [
    {
     "data": {
      "text/plain": [
       "{'ambassador',\n",
       " 'chairman',\n",
       " 'committee',\n",
       " 'democrats',\n",
       " 'dep',\n",
       " 'house',\n",
       " 'impeachment',\n",
       " 'president',\n",
       " 'report',\n",
       " 'said',\n",
       " 'senate',\n",
       " 'transcript',\n",
       " 'trump',\n",
       " 'ukraine'}"
      ]
     },
     "execution_count": 241,
     "metadata": {},
     "output_type": "execute_result"
    }
   ],
   "source": [
    "article_data = load_files_from_disk('impeachment_data/')\n",
    "t = SummaryTopics(article_data)\n",
    "tokens = t.tokenize_text()\n",
    "gensim_dict = t.build_dictionary()\n",
    "gensim_corpus = t.build_corpus()\n",
    "t.build_models()\n",
    "all_topics = []\n",
    "pattern = r'\"([A-Za-z0-9_\\./\\\\-]*)\"'\n",
    "for idx in range(t.lda_model.num_topics):\n",
    "    m = re.findall(pattern, t.lda_model.print_topic(idx,5))\n",
    "    all_topics += m\n",
    "for idx in range(t.lsi_model.num_topics):\n",
    "    m = re.findall(pattern, t.lsi_model.print_topic(idx,5))\n",
    "    all_topics += m\n",
    "set(all_topics)"
   ]
  },
  {
   "cell_type": "code",
   "execution_count": null,
   "metadata": {},
   "outputs": [],
   "source": []
  },
  {
   "cell_type": "code",
   "execution_count": 165,
   "metadata": {},
   "outputs": [],
   "source": [
    "article_data = load_files_from_disk('impeachment_data/')\n",
    "NUM_TOPICS = 5\n",
    "STOPWORDS = set(stopwords.words('english')) | stop_words"
   ]
  },
  {
   "cell_type": "code",
   "execution_count": 149,
   "metadata": {},
   "outputs": [],
   "source": [
    "def clean_text(text):\n",
    "    tokenized_text = word_tokenize(text.lower())\n",
    "    cleaned_text = [t for t in tokenized_text if t not in STOPWORDS and re.match('[a-zA-Z\\-][a-zA-Z\\-]{2,}', t)]\n",
    "    return cleaned_text"
   ]
  },
  {
   "cell_type": "code",
   "execution_count": 166,
   "metadata": {},
   "outputs": [],
   "source": [
    "# For gensim we need to tokenize the data and filter out stopwords\n",
    "tokenized_data = []\n",
    "for text in article_data:\n",
    "    tokenized_data.append(clean_text(text))"
   ]
  },
  {
   "cell_type": "code",
   "execution_count": 167,
   "metadata": {},
   "outputs": [],
   "source": [
    "# Build a Gensim Dictionary - assocation word to numeric id\n",
    "dictionary = corpora.Dictionary(tokenized_data)\n",
    "# for k,v in dictionary.items():\n",
    "#     print((k, v))"
   ]
  },
  {
   "cell_type": "code",
   "execution_count": 168,
   "metadata": {},
   "outputs": [],
   "source": [
    "# Transform the collection of texts to a numerical form\n",
    "corpus = [dictionary.doc2bow(text) for text in tokenized_data]"
   ]
  },
  {
   "cell_type": "code",
   "execution_count": 169,
   "metadata": {},
   "outputs": [],
   "source": [
    "# Build the LDA model\n",
    "lda_model = models.LdaModel(corpus=corpus, num_topics=NUM_TOPICS, id2word=dictionary)\n",
    "\n",
    "#Build the LSI model\n",
    "lsi_model = models.LsiModel(corpus=corpus, num_topics=NUM_TOPICS, id2word=dictionary)"
   ]
  },
  {
   "cell_type": "code",
   "execution_count": 170,
   "metadata": {},
   "outputs": [],
   "source": [
    "lda_topics = lda_model.print_topics()\n",
    "lsi_topics = lsi_model.print_topics()"
   ]
  },
  {
   "cell_type": "code",
   "execution_count": 160,
   "metadata": {
    "scrolled": true
   },
   "outputs": [
    {
     "data": {
      "text/plain": [
       "['president',\n",
       " 'house',\n",
       " 'ambassador',\n",
       " 'trump',\n",
       " 'ukraine',\n",
       " 'committee',\n",
       " 'sondland',\n",
       " 'white',\n",
       " 'security',\n",
       " 'zelensky']"
      ]
     },
     "execution_count": 160,
     "metadata": {},
     "output_type": "execute_result"
    }
   ],
   "source": [
    "t = lda_topics[0][1]\n",
    "pattern = r'\"([A-Za-z0-9_\\./\\\\-]*)\"'\n",
    "m = re.findall(pattern, t)\n",
    "m"
   ]
  },
  {
   "cell_type": "code",
   "execution_count": 171,
   "metadata": {
    "scrolled": true
   },
   "outputs": [
    {
     "name": "stdout",
     "output_type": "stream",
     "text": [
      "0.035*\"president\" + 0.020*\"house\" + 0.019*\"ambassador\" + 0.013*\"ukraine\" + 0.010*\"committee\"\n",
      "0.020*\"president\" + 0.014*\"house\" + 0.014*\"ambassador\" + 0.013*\"trump\" + 0.011*\"ukraine\"\n",
      "0.034*\"president\" + 0.019*\"trump\" + 0.018*\"house\" + 0.016*\"ambassador\" + 0.013*\"ukraine\"\n",
      "0.024*\"president\" + 0.015*\"ambassador\" + 0.013*\"house\" + 0.012*\"trump\" + 0.010*\"ukraine\"\n",
      "0.047*\"president\" + 0.016*\"house\" + 0.016*\"trump\" + 0.012*\"ambassador\" + 0.011*\"sondland\"\n"
     ]
    }
   ],
   "source": [
    "for idx in range(lda_model.num_topics):\n",
    "    print(lda_model.print_topic(idx,5))"
   ]
  },
  {
   "cell_type": "code",
   "execution_count": 172,
   "metadata": {},
   "outputs": [
    {
     "name": "stdout",
     "output_type": "stream",
     "text": [
      "0.035*\"president\" + 0.020*\"house\" + 0.019*\"ambassador\" + 0.013*\"ukraine\" + 0.010*\"committee\"\n",
      "0.020*\"president\" + 0.014*\"house\" + 0.014*\"ambassador\" + 0.013*\"trump\" + 0.011*\"ukraine\"\n",
      "0.034*\"president\" + 0.019*\"trump\" + 0.018*\"house\" + 0.016*\"ambassador\" + 0.013*\"ukraine\"\n",
      "0.024*\"president\" + 0.015*\"ambassador\" + 0.013*\"house\" + 0.012*\"trump\" + 0.010*\"ukraine\"\n",
      "0.047*\"president\" + 0.016*\"house\" + 0.016*\"trump\" + 0.012*\"ambassador\" + 0.011*\"sondland\"\n"
     ]
    }
   ],
   "source": [
    "for idx in range(lsi_model.num_topics):\n",
    "    print(lda_model.print_topic(idx,5))"
   ]
  },
  {
   "cell_type": "code",
   "execution_count": 158,
   "metadata": {},
   "outputs": [
    {
     "name": "stdout",
     "output_type": "stream",
     "text": [
      "===================================================================================================================\n",
      "LDA Model:\n",
      "Topic #0: 0.039*\"president\" + 0.017*\"house\" + 0.014*\"ambassador\" + 0.013*\"trump\" + 0.013*\"ukraine\"\n",
      "Topic #1: 0.031*\"president\" + 0.017*\"ambassador\" + 0.017*\"house\" + 0.016*\"trump\" + 0.013*\"ukraine\"\n",
      "Topic #2: 0.042*\"president\" + 0.016*\"trump\" + 0.016*\"house\" + 0.013*\"ukraine\" + 0.013*\"ambassador\"\n",
      "Topic #3: 0.026*\"president\" + 0.020*\"house\" + 0.019*\"ambassador\" + 0.015*\"trump\" + 0.011*\"white\"\n",
      "Topic #4: 0.041*\"president\" + 0.019*\"house\" + 0.016*\"ambassador\" + 0.012*\"trump\" + 0.010*\"ukraine\"\n",
      "Topic #5: 0.038*\"president\" + 0.018*\"house\" + 0.015*\"ambassador\" + 0.014*\"trump\" + 0.011*\"ukraine\"\n",
      "Topic #6: 0.040*\"president\" + 0.017*\"ambassador\" + 0.015*\"house\" + 0.014*\"trump\" + 0.011*\"ukraine\"\n",
      "Topic #7: 0.036*\"president\" + 0.015*\"house\" + 0.013*\"trump\" + 0.012*\"ambassador\" + 0.012*\"committee\"\n",
      "Topic #8: 0.033*\"president\" + 0.018*\"trump\" + 0.015*\"house\" + 0.013*\"ukraine\" + 0.011*\"ambassador\"\n",
      "Topic #9: 0.024*\"president\" + 0.016*\"house\" + 0.014*\"ambassador\" + 0.012*\"committee\" + 0.010*\"ukraine\"\n",
      "===================================================================================================================\n",
      "LSI Model:\n",
      "Topic #0: 0.582*\"president\" + 0.295*\"house\" + 0.268*\"ambassador\" + 0.225*\"trump\" + 0.193*\"ukraine\"\n",
      "Topic #1: 0.543*\"president\" + -0.286*\"committee\" + -0.246*\"dep\" + -0.232*\"house\" + -0.185*\"chairman\"\n",
      "Topic #2: 0.534*\"report\" + 0.304*\"trump\" + 0.279*\"said\" + 0.253*\"democrats\" + 0.219*\"impeachment\"\n",
      "Topic #3: 0.299*\"democrats\" + -0.202*\"house\" + 0.200*\"report\" + -0.185*\"transcript\" + -0.184*\"senate\"\n",
      "Topic #4: \n",
      "Topic #5: \n",
      "Topic #6: \n",
      "Topic #7: \n",
      "Topic #8: \n",
      "Topic #9: \n",
      "===================================================================================================================\n"
     ]
    }
   ],
   "source": [
    "print(\"=\" * 115)\n",
    "print(\"LDA Model:\")\n",
    "for idx in range(NUM_TOPICS):\n",
    "    print(\"Topic #%s:\"%idx, lda_model.print_topic(idx,5))\n",
    "print(\"=\" * 115)\n",
    "print(\"LSI Model:\")\n",
    "for idx in range(NUM_TOPICS):\n",
    "    print(\"Topic #%s:\"%idx, lsi_model.print_topic(idx,5))\n",
    "print(\"=\" * 115)"
   ]
  },
  {
   "cell_type": "code",
   "execution_count": 129,
   "metadata": {},
   "outputs": [
    {
     "name": "stdout",
     "output_type": "stream",
     "text": [
      "[(0, 8.21516815161783), (1, -3.292904335916135), (2, 5.979631898609965), (3, -4.467286967563506)]\n",
      "[(1, 0.9923591)]\n"
     ]
    }
   ],
   "source": [
    "t = \"\"\"\n",
    "The report puts Trump personal lawyer Rudy Giuliani at the center of a scheme to force out the U.S. ambassador to Ukraine and pressure that country’s government to investigate Joe Biden’s family and a conspiracy theory that Ukraine interfered in the 2016 U.S. election.\n",
    "The House obtained AT&T call records showing Giuliani in contact with phone numbers associated with the White House, the Office of Management and Budget, top Intelligence Committee Republican Devin Nunes, and Giuliani associate Lev Parnas. The report doesn’t say who in the White House or OMB participated in the calls.\n",
    "The calls and texts were made during the time period when Giuliani was publicly discussing his efforts to pursue investigations into the Bidens and a conspiracy theory about Ukrainian interference in the 2016 election.\n",
    "House Intelligence Chairman Adam Schiff said the call records show that “there was considerable coordination among the parties including the White House” in a smear campaign against then-U.S. Ambassador Marie Yovanovitch.\n",
    "The committee also found Giuliani in contact on Aug. 8 with phone numbers associated with the White House amid negotiations with Ukrainian officials about announcing investigations. The records also showed European Union Ambassador Gordon Sondland in contact with White House and OMB phone numbers on Aug. 9.\n",
    "One of the Sondland calls came minutes before a text message he sent saying that he thought Trump strongly wanted the “deliverable.” Sondland later said that referred to an announcement by Ukraine of investigations sought by Trump and Giuliani.\n",
    "\"\"\"\n",
    "bow = dictionary.doc2bow(clean_text(t))\n",
    "print(lsi_model[bow])\n",
    "print(lda_model[bow])"
   ]
  },
  {
   "cell_type": "code",
   "execution_count": 130,
   "metadata": {},
   "outputs": [],
   "source": [
    "lda_index = similarities.MatrixSimilarity(lda_model[corpus])"
   ]
  },
  {
   "cell_type": "code",
   "execution_count": 131,
   "metadata": {},
   "outputs": [],
   "source": [
    "sims = lda_index[lda_model[bow]]"
   ]
  },
  {
   "cell_type": "code",
   "execution_count": 132,
   "metadata": {},
   "outputs": [],
   "source": [
    "sims = sorted(enumerate(sims), key=lambda item: -item[1])"
   ]
  },
  {
   "cell_type": "code",
   "execution_count": 133,
   "metadata": {},
   "outputs": [
    {
     "name": "stdout",
     "output_type": "stream",
     "text": [
      "[(2, 0.99994105), (0, 0.9488427), (3, 0.78462344), (1, 0.0269688)]\n"
     ]
    }
   ],
   "source": [
    "print(sims[:10])"
   ]
  },
  {
   "cell_type": "code",
   "execution_count": 134,
   "metadata": {},
   "outputs": [
    {
     "name": "stdout",
     "output_type": "stream",
     "text": [
      "The House Intelligence Committee voted along party lines Tuesday night to approve a report that found evidence of President Donald Trump's misconduct and obstruction of Congress is \"overwhelming.\"\n",
      "\n",
      "The report, released earlier Tuesday, will form the backbone of the impeachment proceedings against the President and charges that Trump's conduct toward Ukraine compromised national security\n",
      "The vote will send the report to the House Judiciary Committee as that panel considers moving forward on articles of impeachment.\n",
      "The 300-page report from the House Intelligence Committee sets the stage for the impeachment of a US president for just the third time in history. The report stops short of outright recommending impeachment, with House Intelligence Chairman Adam Schiff and the other committee chairs leading the inquiry said that was a decision Congress ultimately has to make.\n",
      "But the report makes clear that's where Democrats are heading.\n",
      "\"I'm going to reserve any kind of a public judgment on \n"
     ]
    }
   ],
   "source": [
    "document_id, similarity = sims[2]\n",
    "print(article_data[document_id][:1000])"
   ]
  },
  {
   "cell_type": "markdown",
   "metadata": {},
   "source": [
    "# Using Scikit-Learn for Topic Modeling\n",
    "\n",
    "scikit-learn offers an NMF model in addition to LDA and LSI models"
   ]
  },
  {
   "cell_type": "code",
   "execution_count": 135,
   "metadata": {},
   "outputs": [],
   "source": [
    "from sklearn.decomposition import NMF, LatentDirichletAllocation, TruncatedSVD\n",
    "from sklearn.feature_extraction.text import CountVectorizer"
   ]
  },
  {
   "cell_type": "code",
   "execution_count": 136,
   "metadata": {},
   "outputs": [],
   "source": [
    "NUM_TOPICS = 5\n",
    "\n",
    "vectorizer = CountVectorizer(min_df=3, max_df=0.9, stop_words='english', lowercase=True,\n",
    "                            token_pattern='[a-zA-Z\\-][a-zA-Z\\-]{2,}')\n",
    "data_vectorized = vectorizer.fit_transform(article_data)"
   ]
  },
  {
   "cell_type": "code",
   "execution_count": 137,
   "metadata": {
    "scrolled": true
   },
   "outputs": [
    {
     "name": "stdout",
     "output_type": "stream",
     "text": [
      "(4, 5)\n"
     ]
    }
   ],
   "source": [
    "# https://scikit-learn.org/stable/modules/generated/sklearn.decomposition.LatentDirichletAllocation.html\n",
    "lda_model = LatentDirichletAllocation(n_components=NUM_TOPICS, max_iter=10, learning_method='online')\n",
    "lda_Z = lda_model.fit_transform(data_vectorized)\n",
    "print(lda_Z.shape) # tuple (num_docs, num_topics)"
   ]
  },
  {
   "cell_type": "code",
   "execution_count": 138,
   "metadata": {},
   "outputs": [
    {
     "name": "stdout",
     "output_type": "stream",
     "text": [
      "(4, 5)\n"
     ]
    }
   ],
   "source": [
    "nmf_model = NMF(n_components=NUM_TOPICS)\n",
    "nmf_Z = nmf_model.fit_transform(data_vectorized)\n",
    "print(nmf_Z.shape)"
   ]
  },
  {
   "cell_type": "code",
   "execution_count": 139,
   "metadata": {},
   "outputs": [
    {
     "name": "stdout",
     "output_type": "stream",
     "text": [
      "(4, 4)\n"
     ]
    }
   ],
   "source": [
    "lsi_model = TruncatedSVD(n_components=NUM_TOPICS)\n",
    "lsi_Z = lsi_model.fit_transform(data_vectorized)\n",
    "print(lsi_Z.shape)"
   ]
  },
  {
   "cell_type": "code",
   "execution_count": 140,
   "metadata": {},
   "outputs": [
    {
     "name": "stdout",
     "output_type": "stream",
     "text": [
      "[9.94119683e-01 5.81994039e-03 1.99707494e-05 2.01479215e-05\n",
      " 2.02581617e-05]\n",
      "[12.01307451  0.23971834  0.63937743  2.77510201  0.18146798]\n",
      "[ 9.65716426e+02 -1.65177931e+02 -1.40420057e-01 -1.29127866e-01]\n"
     ]
    }
   ],
   "source": [
    "print(lda_Z[0])\n",
    "print(nmf_Z[0])\n",
    "print(lsi_Z[0])"
   ]
  },
  {
   "cell_type": "code",
   "execution_count": 141,
   "metadata": {},
   "outputs": [
    {
     "name": "stdout",
     "output_type": "stream",
     "text": [
      "LDA Model:\n",
      "Topic 0:\n",
      "[('volker', 273.75350024654267), ('zelensky', 222.4418278789622), ('meeting', 204.53130698940905), ('affairs', 191.9620358494488), ('oversight', 164.8790887700714), ('taylor', 150.03198368826347), ('document', 140.43942212714282), ('testified', 130.9193321179681), ('deputy', 125.88981557658056), ('engel', 121.96983487207848)]\n",
      "Topic 1:\n",
      "[('zelensky', 258.14923139154865), ('meeting', 141.64499688030472), ('military', 99.08220963806107), ('united', 95.93989188274847), ('announcement', 82.66303582246141), ('volker', 72.5270192543754), ('aid', 66.68316674126515), ('reelection', 63.806254672422305), ('conditioned', 60.49045812440639), ('subpoenas', 60.440916417512526)]\n",
      "Topic 2:\n",
      "[('zelensky', 1.0134425160838034), ('volker', 0.9329729667156315), ('affairs', 0.8758248240122222), ('document', 0.849617806457963), ('did', 0.8302887122827746), ('august', 0.8252802023460254), ('meeting', 0.8050350026983764), ('taylor', 0.7883426230620103), ('testified', 0.7653160362257991), ('morrison', 0.7621549872452724)]\n",
      "Topic 3:\n",
      "[('zelensky', 7.627315984002829), ('meeting', 5.2889615706474835), ('volker', 5.219326267828583), ('military', 3.3572556637402586), ('affairs', 3.1779541741711044), ('united', 3.094975396968226), ('testified', 3.0273949647389724), ('oversight', 2.8155254091805166), ('taylor', 2.6913016469073288), ('aid', 2.486382187941886)]\n",
      "Topic 4:\n",
      "[('democrats', 22.854052019985907), ('says', 11.083213966291774), ('tuesday', 8.864364995544802), ('did', 6.8346990530581335), ('zelensky', 6.001739300909598), ('whistleblower', 5.410476012924767), ('military', 5.110182116476172), ('pence', 5.0128735212075215), ('wednesday', 4.91866476356828), ('senate', 4.6981126849568895)]\n",
      "====================\n",
      "NMF Model:\n",
      "Topic 0:\n",
      "[('zelensky', 22.59607648543074), ('meeting', 21.071418464419285), ('volker', 19.46680366145719), ('taylor', 12.175944989043234), ('oversight', 11.44870921673008), ('testified', 11.173957712132749), ('affairs', 10.774490320019224), ('did', 9.979022263812908), ('september', 9.963042555963895), ('united', 9.331863144991061)]\n",
      "Topic 1:\n",
      "[('democrats', 11.560648448845033), ('says', 5.19576100303231), ('tuesday', 4.3162229001204615), ('senate', 2.110214296105847), ('wednesday', 2.024739888976047), ('did', 1.8113352798243436), ('vote', 1.8000434038750257), ('articles', 1.7373587390555938), ('obtained', 1.5655783816285298), ('accused', 1.5376236185513559)]\n",
      "Topic 2:\n",
      "[('zelensky', 16.887373883169115), ('meeting', 8.614968000568433), ('announcement', 7.128618054897183), ('united', 5.967756506353379), ('military', 5.169522495335823), ('conditioned', 4.875098504299702), ('reelection', 4.775966887558679), ('authority', 4.686186147508823), ('executive', 4.482856601868715), ('subpoenas', 4.086894790477218)]\n",
      "Topic 3:\n",
      "[('engel', 50.94823445887457), ('eliot', 42.14015828300392), ('document', 41.784237702681224), ('affairs', 41.58688328089695), ('volker', 41.3407424466993), ('deputy', 36.40476743601382), ('kurt', 33.24229396038585), ('kent', 32.24008090404512), ('morrison', 31.38245151219721), ('oversight', 26.17028075163032)]\n",
      "Topic 4:\n",
      "[('zelensky', 15.279688737070387), ('military', 13.797796993755744), ('whistleblower', 13.539543705051052), ('pence', 11.213257011571258), ('aid', 11.06922530340668), ('obstruction', 9.599078571838566), ('presidential', 8.10915538196394), ('did', 7.5009148676101045), ('reelection', 6.060476882564663), ('united', 5.989756950861033)]\n",
      "====================\n",
      "LSI Model:\n",
      "Topic 0:\n",
      "[('zelensky', 0.36993954222637904), ('volker', 0.3242372811361268), ('meeting', 0.2872893086100222), ('affairs', 0.21622767192304512), ('oversight', 0.19503010003969568), ('taylor', 0.1853249831432397), ('testified', 0.16142554822125255), ('document', 0.15368450571830464), ('united', 0.14641088025113655), ('september', 0.14587589601723286)]\n",
      "Topic 1:\n",
      "[('zelensky', 0.4375852244005884), ('announcement', 0.1999343921341489), ('military', 0.17272906179215544), ('reelection', 0.16750239802404623), ('conditioned', 0.15889603177887446), ('united', 0.1477201162605574), ('aid', 0.13601677287830613), ('subpoenas', 0.12507589506771907), ('authority', 0.1214315231614022), ('following', 0.11145204507874217)]\n",
      "Topic 2:\n",
      "[('democrats', 0.6757915630252096), ('says', 0.2909748466168003), ('tuesday', 0.249984974713759), ('did', 0.15451053943108264), ('whistleblower', 0.1337428021203567), ('obstruction', 0.12775033458768956), ('accused', 0.11239972691331507), ('articles', 0.11007276191338727), ('pence', 0.10996354889909037), ('wednesday', 0.10616246022689074)]\n",
      "Topic 3:\n",
      "[('senate', 0.4772317817172025), ('cipollone', 0.18062444405644912), ('impeachable', 0.14649834449127905), ('majority', 0.14602877657038327), ('interfered', 0.14526741927154446), ('lunch', 0.1448799783316572), ('laura', 0.14229059247626222), ('contact', 0.14196691924433782), ('says', 0.1389641444683453), ('michael', 0.12110593771220649)]\n",
      "====================\n"
     ]
    }
   ],
   "source": [
    "def print_topics(model, vectorizer, top_n=10):\n",
    "    for idx, topic in enumerate(model.components_):\n",
    "        print(\"Topic %d:\" % (idx))\n",
    "        print([(vectorizer.get_feature_names()[i], topic[i])\n",
    "                        for i in topic.argsort()[:-top_n - 1:-1]])\n",
    " \n",
    "print(\"LDA Model:\")\n",
    "print_topics(lda_model, vectorizer)\n",
    "print(\"=\" * 20)\n",
    " \n",
    "print(\"NMF Model:\")\n",
    "print_topics(nmf_model, vectorizer)\n",
    "print(\"=\" * 20)\n",
    " \n",
    "print(\"LSI Model:\")\n",
    "print_topics(lsi_model, vectorizer)\n",
    "print(\"=\" * 20)"
   ]
  },
  {
   "cell_type": "code",
   "execution_count": 142,
   "metadata": {},
   "outputs": [
    {
     "name": "stdout",
     "output_type": "stream",
     "text": [
      "[0.00881501 0.0461733  0.00893442 0.         0.        ]\n"
     ]
    }
   ],
   "source": [
    "text = \"The President is underfire for his corrupt behavior. Trump Zelensky impeachment democrats volker\"\n",
    "x = nmf_model.transform(vectorizer.transform([text]))[0]\n",
    "print(x)"
   ]
  },
  {
   "cell_type": "code",
   "execution_count": 144,
   "metadata": {},
   "outputs": [
    {
     "data": {
      "text/html": [
       "\n",
       "    <div class=\"bk-root\">\n",
       "        <a href=\"https://bokeh.org\" target=\"_blank\" class=\"bk-logo bk-logo-small bk-logo-notebook\"></a>\n",
       "        <span id=\"1001\">Loading BokehJS ...</span>\n",
       "    </div>"
      ]
     },
     "metadata": {},
     "output_type": "display_data"
    },
    {
     "data": {
      "application/javascript": [
       "\n",
       "(function(root) {\n",
       "  function now() {\n",
       "    return new Date();\n",
       "  }\n",
       "\n",
       "  var force = true;\n",
       "\n",
       "  if (typeof root._bokeh_onload_callbacks === \"undefined\" || force === true) {\n",
       "    root._bokeh_onload_callbacks = [];\n",
       "    root._bokeh_is_loading = undefined;\n",
       "  }\n",
       "\n",
       "  var JS_MIME_TYPE = 'application/javascript';\n",
       "  var HTML_MIME_TYPE = 'text/html';\n",
       "  var EXEC_MIME_TYPE = 'application/vnd.bokehjs_exec.v0+json';\n",
       "  var CLASS_NAME = 'output_bokeh rendered_html';\n",
       "\n",
       "  /**\n",
       "   * Render data to the DOM node\n",
       "   */\n",
       "  function render(props, node) {\n",
       "    var script = document.createElement(\"script\");\n",
       "    node.appendChild(script);\n",
       "  }\n",
       "\n",
       "  /**\n",
       "   * Handle when an output is cleared or removed\n",
       "   */\n",
       "  function handleClearOutput(event, handle) {\n",
       "    var cell = handle.cell;\n",
       "\n",
       "    var id = cell.output_area._bokeh_element_id;\n",
       "    var server_id = cell.output_area._bokeh_server_id;\n",
       "    // Clean up Bokeh references\n",
       "    if (id != null && id in Bokeh.index) {\n",
       "      Bokeh.index[id].model.document.clear();\n",
       "      delete Bokeh.index[id];\n",
       "    }\n",
       "\n",
       "    if (server_id !== undefined) {\n",
       "      // Clean up Bokeh references\n",
       "      var cmd = \"from bokeh.io.state import curstate; print(curstate().uuid_to_server['\" + server_id + \"'].get_sessions()[0].document.roots[0]._id)\";\n",
       "      cell.notebook.kernel.execute(cmd, {\n",
       "        iopub: {\n",
       "          output: function(msg) {\n",
       "            var id = msg.content.text.trim();\n",
       "            if (id in Bokeh.index) {\n",
       "              Bokeh.index[id].model.document.clear();\n",
       "              delete Bokeh.index[id];\n",
       "            }\n",
       "          }\n",
       "        }\n",
       "      });\n",
       "      // Destroy server and session\n",
       "      var cmd = \"import bokeh.io.notebook as ion; ion.destroy_server('\" + server_id + \"')\";\n",
       "      cell.notebook.kernel.execute(cmd);\n",
       "    }\n",
       "  }\n",
       "\n",
       "  /**\n",
       "   * Handle when a new output is added\n",
       "   */\n",
       "  function handleAddOutput(event, handle) {\n",
       "    var output_area = handle.output_area;\n",
       "    var output = handle.output;\n",
       "\n",
       "    // limit handleAddOutput to display_data with EXEC_MIME_TYPE content only\n",
       "    if ((output.output_type != \"display_data\") || (!output.data.hasOwnProperty(EXEC_MIME_TYPE))) {\n",
       "      return\n",
       "    }\n",
       "\n",
       "    var toinsert = output_area.element.find(\".\" + CLASS_NAME.split(' ')[0]);\n",
       "\n",
       "    if (output.metadata[EXEC_MIME_TYPE][\"id\"] !== undefined) {\n",
       "      toinsert[toinsert.length - 1].firstChild.textContent = output.data[JS_MIME_TYPE];\n",
       "      // store reference to embed id on output_area\n",
       "      output_area._bokeh_element_id = output.metadata[EXEC_MIME_TYPE][\"id\"];\n",
       "    }\n",
       "    if (output.metadata[EXEC_MIME_TYPE][\"server_id\"] !== undefined) {\n",
       "      var bk_div = document.createElement(\"div\");\n",
       "      bk_div.innerHTML = output.data[HTML_MIME_TYPE];\n",
       "      var script_attrs = bk_div.children[0].attributes;\n",
       "      for (var i = 0; i < script_attrs.length; i++) {\n",
       "        toinsert[toinsert.length - 1].firstChild.setAttribute(script_attrs[i].name, script_attrs[i].value);\n",
       "      }\n",
       "      // store reference to server id on output_area\n",
       "      output_area._bokeh_server_id = output.metadata[EXEC_MIME_TYPE][\"server_id\"];\n",
       "    }\n",
       "  }\n",
       "\n",
       "  function register_renderer(events, OutputArea) {\n",
       "\n",
       "    function append_mime(data, metadata, element) {\n",
       "      // create a DOM node to render to\n",
       "      var toinsert = this.create_output_subarea(\n",
       "        metadata,\n",
       "        CLASS_NAME,\n",
       "        EXEC_MIME_TYPE\n",
       "      );\n",
       "      this.keyboard_manager.register_events(toinsert);\n",
       "      // Render to node\n",
       "      var props = {data: data, metadata: metadata[EXEC_MIME_TYPE]};\n",
       "      render(props, toinsert[toinsert.length - 1]);\n",
       "      element.append(toinsert);\n",
       "      return toinsert\n",
       "    }\n",
       "\n",
       "    /* Handle when an output is cleared or removed */\n",
       "    events.on('clear_output.CodeCell', handleClearOutput);\n",
       "    events.on('delete.Cell', handleClearOutput);\n",
       "\n",
       "    /* Handle when a new output is added */\n",
       "    events.on('output_added.OutputArea', handleAddOutput);\n",
       "\n",
       "    /**\n",
       "     * Register the mime type and append_mime function with output_area\n",
       "     */\n",
       "    OutputArea.prototype.register_mime_type(EXEC_MIME_TYPE, append_mime, {\n",
       "      /* Is output safe? */\n",
       "      safe: true,\n",
       "      /* Index of renderer in `output_area.display_order` */\n",
       "      index: 0\n",
       "    });\n",
       "  }\n",
       "\n",
       "  // register the mime type if in Jupyter Notebook environment and previously unregistered\n",
       "  if (root.Jupyter !== undefined) {\n",
       "    var events = require('base/js/events');\n",
       "    var OutputArea = require('notebook/js/outputarea').OutputArea;\n",
       "\n",
       "    if (OutputArea.prototype.mime_types().indexOf(EXEC_MIME_TYPE) == -1) {\n",
       "      register_renderer(events, OutputArea);\n",
       "    }\n",
       "  }\n",
       "\n",
       "  \n",
       "  if (typeof (root._bokeh_timeout) === \"undefined\" || force === true) {\n",
       "    root._bokeh_timeout = Date.now() + 5000;\n",
       "    root._bokeh_failed_load = false;\n",
       "  }\n",
       "\n",
       "  var NB_LOAD_WARNING = {'data': {'text/html':\n",
       "     \"<div style='background-color: #fdd'>\\n\"+\n",
       "     \"<p>\\n\"+\n",
       "     \"BokehJS does not appear to have successfully loaded. If loading BokehJS from CDN, this \\n\"+\n",
       "     \"may be due to a slow or bad network connection. Possible fixes:\\n\"+\n",
       "     \"</p>\\n\"+\n",
       "     \"<ul>\\n\"+\n",
       "     \"<li>re-rerun `output_notebook()` to attempt to load from CDN again, or</li>\\n\"+\n",
       "     \"<li>use INLINE resources instead, as so:</li>\\n\"+\n",
       "     \"</ul>\\n\"+\n",
       "     \"<code>\\n\"+\n",
       "     \"from bokeh.resources import INLINE\\n\"+\n",
       "     \"output_notebook(resources=INLINE)\\n\"+\n",
       "     \"</code>\\n\"+\n",
       "     \"</div>\"}};\n",
       "\n",
       "  function display_loaded() {\n",
       "    var el = document.getElementById(\"1001\");\n",
       "    if (el != null) {\n",
       "      el.textContent = \"BokehJS is loading...\";\n",
       "    }\n",
       "    if (root.Bokeh !== undefined) {\n",
       "      if (el != null) {\n",
       "        el.textContent = \"BokehJS \" + root.Bokeh.version + \" successfully loaded.\";\n",
       "      }\n",
       "    } else if (Date.now() < root._bokeh_timeout) {\n",
       "      setTimeout(display_loaded, 100)\n",
       "    }\n",
       "  }\n",
       "\n",
       "\n",
       "  function run_callbacks() {\n",
       "    try {\n",
       "      root._bokeh_onload_callbacks.forEach(function(callback) {\n",
       "        if (callback != null)\n",
       "          callback();\n",
       "      });\n",
       "    } finally {\n",
       "      delete root._bokeh_onload_callbacks\n",
       "    }\n",
       "    console.debug(\"Bokeh: all callbacks have finished\");\n",
       "  }\n",
       "\n",
       "  function load_libs(css_urls, js_urls, callback) {\n",
       "    if (css_urls == null) css_urls = [];\n",
       "    if (js_urls == null) js_urls = [];\n",
       "\n",
       "    root._bokeh_onload_callbacks.push(callback);\n",
       "    if (root._bokeh_is_loading > 0) {\n",
       "      console.debug(\"Bokeh: BokehJS is being loaded, scheduling callback at\", now());\n",
       "      return null;\n",
       "    }\n",
       "    if (js_urls == null || js_urls.length === 0) {\n",
       "      run_callbacks();\n",
       "      return null;\n",
       "    }\n",
       "    console.debug(\"Bokeh: BokehJS not loaded, scheduling load and callback at\", now());\n",
       "    root._bokeh_is_loading = css_urls.length + js_urls.length;\n",
       "\n",
       "    function on_load() {\n",
       "      root._bokeh_is_loading--;\n",
       "      if (root._bokeh_is_loading === 0) {\n",
       "        console.debug(\"Bokeh: all BokehJS libraries/stylesheets loaded\");\n",
       "        run_callbacks()\n",
       "      }\n",
       "    }\n",
       "\n",
       "    function on_error() {\n",
       "      console.error(\"failed to load \" + url);\n",
       "    }\n",
       "\n",
       "    for (var i = 0; i < css_urls.length; i++) {\n",
       "      var url = css_urls[i];\n",
       "      const element = document.createElement(\"link\");\n",
       "      element.onload = on_load;\n",
       "      element.onerror = on_error;\n",
       "      element.rel = \"stylesheet\";\n",
       "      element.type = \"text/css\";\n",
       "      element.href = url;\n",
       "      console.debug(\"Bokeh: injecting link tag for BokehJS stylesheet: \", url);\n",
       "      document.body.appendChild(element);\n",
       "    }\n",
       "\n",
       "    for (var i = 0; i < js_urls.length; i++) {\n",
       "      var url = js_urls[i];\n",
       "      var element = document.createElement('script');\n",
       "      element.onload = on_load;\n",
       "      element.onerror = on_error;\n",
       "      element.async = false;\n",
       "      element.src = url;\n",
       "      console.debug(\"Bokeh: injecting script tag for BokehJS library: \", url);\n",
       "      document.head.appendChild(element);\n",
       "    }\n",
       "  };var element = document.getElementById(\"1001\");\n",
       "  if (element == null) {\n",
       "    console.error(\"Bokeh: ERROR: autoload.js configured with elementid '1001' but no matching script tag was found. \")\n",
       "    return false;\n",
       "  }\n",
       "\n",
       "  function inject_raw_css(css) {\n",
       "    const element = document.createElement(\"style\");\n",
       "    element.appendChild(document.createTextNode(css));\n",
       "    document.body.appendChild(element);\n",
       "  }\n",
       "\n",
       "  \n",
       "  var js_urls = [\"https://cdn.pydata.org/bokeh/release/bokeh-1.4.0.min.js\", \"https://cdn.pydata.org/bokeh/release/bokeh-widgets-1.4.0.min.js\", \"https://cdn.pydata.org/bokeh/release/bokeh-tables-1.4.0.min.js\", \"https://cdn.pydata.org/bokeh/release/bokeh-gl-1.4.0.min.js\"];\n",
       "  var css_urls = [];\n",
       "  \n",
       "\n",
       "  var inline_js = [\n",
       "    function(Bokeh) {\n",
       "      Bokeh.set_log_level(\"info\");\n",
       "    },\n",
       "    function(Bokeh) {\n",
       "    \n",
       "    \n",
       "    }\n",
       "  ];\n",
       "\n",
       "  function run_inline_js() {\n",
       "    \n",
       "    if (root.Bokeh !== undefined || force === true) {\n",
       "      \n",
       "    for (var i = 0; i < inline_js.length; i++) {\n",
       "      inline_js[i].call(root, root.Bokeh);\n",
       "    }\n",
       "    if (force === true) {\n",
       "        display_loaded();\n",
       "      }} else if (Date.now() < root._bokeh_timeout) {\n",
       "      setTimeout(run_inline_js, 100);\n",
       "    } else if (!root._bokeh_failed_load) {\n",
       "      console.log(\"Bokeh: BokehJS failed to load within specified timeout.\");\n",
       "      root._bokeh_failed_load = true;\n",
       "    } else if (force !== true) {\n",
       "      var cell = $(document.getElementById(\"1001\")).parents('.cell').data().cell;\n",
       "      cell.output_area.append_execute_result(NB_LOAD_WARNING)\n",
       "    }\n",
       "\n",
       "  }\n",
       "\n",
       "  if (root._bokeh_is_loading === 0) {\n",
       "    console.debug(\"Bokeh: BokehJS loaded, going straight to plotting\");\n",
       "    run_inline_js();\n",
       "  } else {\n",
       "    load_libs(css_urls, js_urls, function() {\n",
       "      console.debug(\"Bokeh: BokehJS plotting callback run at\", now());\n",
       "      run_inline_js();\n",
       "    });\n",
       "  }\n",
       "}(window));"
      ],
      "application/vnd.bokehjs_load.v0+json": "\n(function(root) {\n  function now() {\n    return new Date();\n  }\n\n  var force = true;\n\n  if (typeof root._bokeh_onload_callbacks === \"undefined\" || force === true) {\n    root._bokeh_onload_callbacks = [];\n    root._bokeh_is_loading = undefined;\n  }\n\n  \n\n  \n  if (typeof (root._bokeh_timeout) === \"undefined\" || force === true) {\n    root._bokeh_timeout = Date.now() + 5000;\n    root._bokeh_failed_load = false;\n  }\n\n  var NB_LOAD_WARNING = {'data': {'text/html':\n     \"<div style='background-color: #fdd'>\\n\"+\n     \"<p>\\n\"+\n     \"BokehJS does not appear to have successfully loaded. If loading BokehJS from CDN, this \\n\"+\n     \"may be due to a slow or bad network connection. Possible fixes:\\n\"+\n     \"</p>\\n\"+\n     \"<ul>\\n\"+\n     \"<li>re-rerun `output_notebook()` to attempt to load from CDN again, or</li>\\n\"+\n     \"<li>use INLINE resources instead, as so:</li>\\n\"+\n     \"</ul>\\n\"+\n     \"<code>\\n\"+\n     \"from bokeh.resources import INLINE\\n\"+\n     \"output_notebook(resources=INLINE)\\n\"+\n     \"</code>\\n\"+\n     \"</div>\"}};\n\n  function display_loaded() {\n    var el = document.getElementById(\"1001\");\n    if (el != null) {\n      el.textContent = \"BokehJS is loading...\";\n    }\n    if (root.Bokeh !== undefined) {\n      if (el != null) {\n        el.textContent = \"BokehJS \" + root.Bokeh.version + \" successfully loaded.\";\n      }\n    } else if (Date.now() < root._bokeh_timeout) {\n      setTimeout(display_loaded, 100)\n    }\n  }\n\n\n  function run_callbacks() {\n    try {\n      root._bokeh_onload_callbacks.forEach(function(callback) {\n        if (callback != null)\n          callback();\n      });\n    } finally {\n      delete root._bokeh_onload_callbacks\n    }\n    console.debug(\"Bokeh: all callbacks have finished\");\n  }\n\n  function load_libs(css_urls, js_urls, callback) {\n    if (css_urls == null) css_urls = [];\n    if (js_urls == null) js_urls = [];\n\n    root._bokeh_onload_callbacks.push(callback);\n    if (root._bokeh_is_loading > 0) {\n      console.debug(\"Bokeh: BokehJS is being loaded, scheduling callback at\", now());\n      return null;\n    }\n    if (js_urls == null || js_urls.length === 0) {\n      run_callbacks();\n      return null;\n    }\n    console.debug(\"Bokeh: BokehJS not loaded, scheduling load and callback at\", now());\n    root._bokeh_is_loading = css_urls.length + js_urls.length;\n\n    function on_load() {\n      root._bokeh_is_loading--;\n      if (root._bokeh_is_loading === 0) {\n        console.debug(\"Bokeh: all BokehJS libraries/stylesheets loaded\");\n        run_callbacks()\n      }\n    }\n\n    function on_error() {\n      console.error(\"failed to load \" + url);\n    }\n\n    for (var i = 0; i < css_urls.length; i++) {\n      var url = css_urls[i];\n      const element = document.createElement(\"link\");\n      element.onload = on_load;\n      element.onerror = on_error;\n      element.rel = \"stylesheet\";\n      element.type = \"text/css\";\n      element.href = url;\n      console.debug(\"Bokeh: injecting link tag for BokehJS stylesheet: \", url);\n      document.body.appendChild(element);\n    }\n\n    for (var i = 0; i < js_urls.length; i++) {\n      var url = js_urls[i];\n      var element = document.createElement('script');\n      element.onload = on_load;\n      element.onerror = on_error;\n      element.async = false;\n      element.src = url;\n      console.debug(\"Bokeh: injecting script tag for BokehJS library: \", url);\n      document.head.appendChild(element);\n    }\n  };var element = document.getElementById(\"1001\");\n  if (element == null) {\n    console.error(\"Bokeh: ERROR: autoload.js configured with elementid '1001' but no matching script tag was found. \")\n    return false;\n  }\n\n  function inject_raw_css(css) {\n    const element = document.createElement(\"style\");\n    element.appendChild(document.createTextNode(css));\n    document.body.appendChild(element);\n  }\n\n  \n  var js_urls = [\"https://cdn.pydata.org/bokeh/release/bokeh-1.4.0.min.js\", \"https://cdn.pydata.org/bokeh/release/bokeh-widgets-1.4.0.min.js\", \"https://cdn.pydata.org/bokeh/release/bokeh-tables-1.4.0.min.js\", \"https://cdn.pydata.org/bokeh/release/bokeh-gl-1.4.0.min.js\"];\n  var css_urls = [];\n  \n\n  var inline_js = [\n    function(Bokeh) {\n      Bokeh.set_log_level(\"info\");\n    },\n    function(Bokeh) {\n    \n    \n    }\n  ];\n\n  function run_inline_js() {\n    \n    if (root.Bokeh !== undefined || force === true) {\n      \n    for (var i = 0; i < inline_js.length; i++) {\n      inline_js[i].call(root, root.Bokeh);\n    }\n    if (force === true) {\n        display_loaded();\n      }} else if (Date.now() < root._bokeh_timeout) {\n      setTimeout(run_inline_js, 100);\n    } else if (!root._bokeh_failed_load) {\n      console.log(\"Bokeh: BokehJS failed to load within specified timeout.\");\n      root._bokeh_failed_load = true;\n    } else if (force !== true) {\n      var cell = $(document.getElementById(\"1001\")).parents('.cell').data().cell;\n      cell.output_area.append_execute_result(NB_LOAD_WARNING)\n    }\n\n  }\n\n  if (root._bokeh_is_loading === 0) {\n    console.debug(\"Bokeh: BokehJS loaded, going straight to plotting\");\n    run_inline_js();\n  } else {\n    load_libs(css_urls, js_urls, function() {\n      console.debug(\"Bokeh: BokehJS plotting callback run at\", now());\n      run_inline_js();\n    });\n  }\n}(window));"
     },
     "metadata": {},
     "output_type": "display_data"
    },
    {
     "data": {
      "text/html": [
       "\n",
       "\n",
       "\n",
       "\n",
       "\n",
       "\n",
       "  <div class=\"bk-root\" id=\"650822a5-85cb-4724-9dff-ced2f9cc0684\" data-root-id=\"1005\"></div>\n"
      ]
     },
     "metadata": {},
     "output_type": "display_data"
    },
    {
     "data": {
      "application/javascript": [
       "(function(root) {\n",
       "  function embed_document(root) {\n",
       "    \n",
       "  var docs_json = {\"64ad4134-f909-41b1-89f4-a05494e4bb42\":{\"roots\":{\"references\":[{\"attributes\":{\"below\":[{\"id\":\"1014\",\"type\":\"LinearAxis\"}],\"center\":[{\"id\":\"1018\",\"type\":\"Grid\"},{\"id\":\"1023\",\"type\":\"Grid\"},{\"id\":\"1003\",\"type\":\"LabelSet\"}],\"left\":[{\"id\":\"1019\",\"type\":\"LinearAxis\"}],\"renderers\":[{\"id\":\"1040\",\"type\":\"GlyphRenderer\"}],\"title\":{\"id\":\"1042\",\"type\":\"Title\"},\"toolbar\":{\"id\":\"1030\",\"type\":\"Toolbar\"},\"x_range\":{\"id\":\"1006\",\"type\":\"DataRange1d\"},\"x_scale\":{\"id\":\"1010\",\"type\":\"LinearScale\"},\"y_range\":{\"id\":\"1008\",\"type\":\"DataRange1d\"},\"y_scale\":{\"id\":\"1012\",\"type\":\"LinearScale\"}},\"id\":\"1005\",\"subtype\":\"Figure\",\"type\":\"Plot\"},{\"attributes\":{},\"id\":\"1015\",\"type\":\"BasicTicker\"},{\"attributes\":{},\"id\":\"1049\",\"type\":\"Selection\"},{\"attributes\":{},\"id\":\"1010\",\"type\":\"LinearScale\"},{\"attributes\":{},\"id\":\"1048\",\"type\":\"UnionRenderers\"},{\"attributes\":{\"text\":\"\"},\"id\":\"1042\",\"type\":\"Title\"},{\"attributes\":{},\"id\":\"1020\",\"type\":\"BasicTicker\"},{\"attributes\":{\"callback\":null},\"id\":\"1008\",\"type\":\"DataRange1d\"},{\"attributes\":{},\"id\":\"1028\",\"type\":\"ResetTool\"},{\"attributes\":{},\"id\":\"1044\",\"type\":\"BasicTickFormatter\"},{\"attributes\":{\"active_drag\":\"auto\",\"active_inspect\":\"auto\",\"active_multi\":null,\"active_scroll\":\"auto\",\"active_tap\":\"auto\",\"tools\":[{\"id\":\"1024\",\"type\":\"PanTool\"},{\"id\":\"1025\",\"type\":\"WheelZoomTool\"},{\"id\":\"1026\",\"type\":\"BoxZoomTool\"},{\"id\":\"1027\",\"type\":\"SaveTool\"},{\"id\":\"1028\",\"type\":\"ResetTool\"},{\"id\":\"1029\",\"type\":\"HelpTool\"}]},\"id\":\"1030\",\"type\":\"Toolbar\"},{\"attributes\":{\"source\":{\"id\":\"1002\",\"type\":\"ColumnDataSource\"}},\"id\":\"1041\",\"type\":\"CDSView\"},{\"attributes\":{\"overlay\":{\"id\":\"1050\",\"type\":\"BoxAnnotation\"}},\"id\":\"1026\",\"type\":\"BoxZoomTool\"},{\"attributes\":{\"source\":{\"id\":\"1002\",\"type\":\"ColumnDataSource\"},\"text\":{\"field\":\"document\"},\"text_align\":\"center\",\"text_color\":{\"value\":\"#555555\"},\"text_font_size\":{\"value\":\"8pt\"},\"x\":{\"field\":\"x\"},\"y\":{\"field\":\"y\"},\"y_offset\":{\"value\":8}},\"id\":\"1003\",\"type\":\"LabelSet\"},{\"attributes\":{\"formatter\":{\"id\":\"1044\",\"type\":\"BasicTickFormatter\"},\"ticker\":{\"id\":\"1015\",\"type\":\"BasicTicker\"}},\"id\":\"1014\",\"type\":\"LinearAxis\"},{\"attributes\":{},\"id\":\"1012\",\"type\":\"LinearScale\"},{\"attributes\":{},\"id\":\"1027\",\"type\":\"SaveTool\"},{\"attributes\":{\"bottom_units\":\"screen\",\"fill_alpha\":{\"value\":0.5},\"fill_color\":{\"value\":\"lightgrey\"},\"left_units\":\"screen\",\"level\":\"overlay\",\"line_alpha\":{\"value\":1.0},\"line_color\":{\"value\":\"black\"},\"line_dash\":[4,4],\"line_width\":{\"value\":2},\"render_mode\":\"css\",\"right_units\":\"screen\",\"top_units\":\"screen\"},\"id\":\"1050\",\"type\":\"BoxAnnotation\"},{\"attributes\":{\"formatter\":{\"id\":\"1046\",\"type\":\"BasicTickFormatter\"},\"ticker\":{\"id\":\"1020\",\"type\":\"BasicTicker\"}},\"id\":\"1019\",\"type\":\"LinearAxis\"},{\"attributes\":{},\"id\":\"1046\",\"type\":\"BasicTickFormatter\"},{\"attributes\":{\"data_source\":{\"id\":\"1002\",\"type\":\"ColumnDataSource\"},\"glyph\":{\"id\":\"1038\",\"type\":\"Circle\"},\"hover_glyph\":null,\"muted_glyph\":null,\"nonselection_glyph\":{\"id\":\"1039\",\"type\":\"Circle\"},\"selection_glyph\":null,\"view\":{\"id\":\"1041\",\"type\":\"CDSView\"}},\"id\":\"1040\",\"type\":\"GlyphRenderer\"},{\"attributes\":{\"ticker\":{\"id\":\"1015\",\"type\":\"BasicTicker\"}},\"id\":\"1018\",\"type\":\"Grid\"},{\"attributes\":{},\"id\":\"1024\",\"type\":\"PanTool\"},{\"attributes\":{\"dimension\":1,\"ticker\":{\"id\":\"1020\",\"type\":\"BasicTicker\"}},\"id\":\"1023\",\"type\":\"Grid\"},{\"attributes\":{\"fill_alpha\":{\"value\":0.1},\"fill_color\":{\"value\":\"#1f77b4\"},\"line_alpha\":{\"value\":0.1},\"line_color\":{\"value\":\"#1f77b4\"},\"size\":{\"units\":\"screen\",\"value\":12},\"x\":{\"field\":\"x\"},\"y\":{\"field\":\"y\"}},\"id\":\"1039\",\"type\":\"Circle\"},{\"attributes\":{},\"id\":\"1029\",\"type\":\"HelpTool\"},{\"attributes\":{\"fill_alpha\":{\"value\":0.8},\"fill_color\":{\"value\":\"#1f77b4\"},\"size\":{\"units\":\"screen\",\"value\":12},\"x\":{\"field\":\"x\"},\"y\":{\"field\":\"y\"}},\"id\":\"1038\",\"type\":\"Circle\"},{\"attributes\":{},\"id\":\"1025\",\"type\":\"WheelZoomTool\"},{\"attributes\":{\"callback\":null},\"id\":\"1006\",\"type\":\"DataRange1d\"},{\"attributes\":{\"callback\":null,\"data\":{\"document\":[0,1,2,3],\"index\":[0,1,2,3],\"x\":{\"__ndarray__\":\"rItQPbstjkASEBt9+Nh+QKqZwXZiHx1A8HaJARaOKUA=\",\"dtype\":\"float64\",\"shape\":[4]},\"y\":{\"__ndarray__\":\"nTlZnbGlZMCUcHj0szB0QNccZdwNCfC/lCOSgw04GUA=\",\"dtype\":\"float64\",\"shape\":[4]}},\"selected\":{\"id\":\"1049\",\"type\":\"Selection\"},\"selection_policy\":{\"id\":\"1048\",\"type\":\"UnionRenderers\"}},\"id\":\"1002\",\"type\":\"ColumnDataSource\"}],\"root_ids\":[\"1005\"]},\"title\":\"Bokeh Application\",\"version\":\"1.4.0\"}};\n",
       "  var render_items = [{\"docid\":\"64ad4134-f909-41b1-89f4-a05494e4bb42\",\"notebook_comms_target\":\"1051\",\"roots\":{\"1005\":\"650822a5-85cb-4724-9dff-ced2f9cc0684\"}}];\n",
       "  root.Bokeh.embed.embed_items_notebook(docs_json, render_items);\n",
       "\n",
       "  }\n",
       "  if (root.Bokeh !== undefined) {\n",
       "    embed_document(root);\n",
       "  } else {\n",
       "    var attempts = 0;\n",
       "    var timer = setInterval(function(root) {\n",
       "      if (root.Bokeh !== undefined) {\n",
       "        clearInterval(timer);\n",
       "        embed_document(root);\n",
       "      } else {\n",
       "        attempts++;\n",
       "        if (attempts > 100) {\n",
       "          clearInterval(timer);\n",
       "          console.log(\"Bokeh: ERROR: Unable to run BokehJS code because BokehJS library is missing\");\n",
       "        }\n",
       "      }\n",
       "    }, 10, root)\n",
       "  }\n",
       "})(window);"
      ],
      "application/vnd.bokehjs_exec.v0+json": ""
     },
     "metadata": {
      "application/vnd.bokehjs_exec.v0+json": {
       "id": "1005"
      }
     },
     "output_type": "display_data"
    },
    {
     "data": {
      "text/html": [
       "<p><code>&lt;Bokeh Notebook handle for <strong>In[144]</strong>&gt;</code></p>"
      ],
      "text/plain": [
       "<bokeh.io.notebook.CommsHandle at 0x7fb19b323890>"
      ]
     },
     "execution_count": 144,
     "metadata": {},
     "output_type": "execute_result"
    }
   ],
   "source": [
    "import pandas as pd\n",
    "from bokeh.io import push_notebook, show, output_notebook\n",
    "from bokeh.plotting import figure\n",
    "from bokeh.models import ColumnDataSource, LabelSet\n",
    "output_notebook()\n",
    "\n",
    "svd = TruncatedSVD(n_components=2)\n",
    "documents_2d = svd.fit_transform(data_vectorized)\n",
    " \n",
    "df = pd.DataFrame(columns=['x', 'y', 'document'])\n",
    "df['x'], df['y'], df['document'] = documents_2d[:,0], documents_2d[:,1], range(len(article_data))\n",
    " \n",
    "source = ColumnDataSource(ColumnDataSource.from_df(df))\n",
    "labels = LabelSet(x=\"x\", y=\"y\", text=\"document\", y_offset=8,\n",
    "                  text_font_size=\"8pt\", text_color=\"#555555\",\n",
    "                  source=source, text_align='center')\n",
    " \n",
    "plot = figure(plot_width=600, plot_height=600)\n",
    "plot.circle(\"x\", \"y\", size=12, source=source, line_color=\"black\", fill_alpha=0.8)\n",
    "plot.add_layout(labels)\n",
    "show(plot, notebook_handle=True)\n"
   ]
  },
  {
   "cell_type": "code",
   "execution_count": 145,
   "metadata": {},
   "outputs": [
    {
     "data": {
      "text/html": [
       "\n",
       "\n",
       "\n",
       "\n",
       "\n",
       "\n",
       "  <div class=\"bk-root\" id=\"a1e9626b-12ba-4d6d-9744-821ba93b6af2\" data-root-id=\"1109\"></div>\n"
      ]
     },
     "metadata": {},
     "output_type": "display_data"
    },
    {
     "data": {
      "application/javascript": [
       "(function(root) {\n",
       "  function embed_document(root) {\n",
       "    \n",
       "  var docs_json = {\"d9624d66-651d-4c9a-a4f4-489f17ba4429\":{\"roots\":{\"references\":[{\"attributes\":{\"below\":[{\"id\":\"1118\",\"type\":\"LinearAxis\"}],\"center\":[{\"id\":\"1122\",\"type\":\"Grid\"},{\"id\":\"1127\",\"type\":\"Grid\"},{\"id\":\"1107\",\"type\":\"LabelSet\"}],\"left\":[{\"id\":\"1123\",\"type\":\"LinearAxis\"}],\"renderers\":[{\"id\":\"1144\",\"type\":\"GlyphRenderer\"}],\"title\":{\"id\":\"1155\",\"type\":\"Title\"},\"toolbar\":{\"id\":\"1134\",\"type\":\"Toolbar\"},\"x_range\":{\"id\":\"1110\",\"type\":\"DataRange1d\"},\"x_scale\":{\"id\":\"1114\",\"type\":\"LinearScale\"},\"y_range\":{\"id\":\"1112\",\"type\":\"DataRange1d\"},\"y_scale\":{\"id\":\"1116\",\"type\":\"LinearScale\"}},\"id\":\"1109\",\"subtype\":\"Figure\",\"type\":\"Plot\"},{\"attributes\":{\"text\":\"\"},\"id\":\"1155\",\"type\":\"Title\"},{\"attributes\":{\"callback\":null,\"data\":{\"document\":[\"NaN\",\"NaN\",\"NaN\",\"NaN\",\"NaN\",\"NaN\",\"NaN\",\"NaN\",\"NaN\",\"NaN\",\"NaN\",\"NaN\",\"NaN\",\"NaN\",\"NaN\",\"NaN\",\"NaN\",\"NaN\",\"NaN\",\"NaN\",\"NaN\",\"NaN\",\"NaN\",\"NaN\",\"NaN\",\"NaN\",\"NaN\",\"NaN\",\"NaN\",\"NaN\",\"NaN\",\"NaN\",\"NaN\",\"NaN\",\"NaN\",\"NaN\",\"NaN\",\"NaN\",\"NaN\",\"NaN\",\"NaN\",\"NaN\",\"NaN\",\"NaN\",\"NaN\",\"NaN\",\"NaN\",\"NaN\",\"NaN\",\"NaN\",\"NaN\",\"NaN\",\"NaN\",\"NaN\",\"NaN\",\"NaN\",\"NaN\",\"NaN\",\"NaN\",\"NaN\",\"NaN\",\"NaN\",\"NaN\",\"NaN\",\"NaN\",\"NaN\",\"NaN\",\"NaN\",\"NaN\",\"NaN\",\"NaN\",\"NaN\",\"NaN\",\"NaN\",\"NaN\",\"NaN\",\"NaN\",\"NaN\",\"NaN\",\"NaN\",\"NaN\",\"NaN\",\"NaN\",\"NaN\",\"NaN\",\"NaN\",\"NaN\",\"NaN\",\"NaN\",\"NaN\",\"NaN\",\"NaN\",\"NaN\",\"NaN\",\"NaN\",\"NaN\",\"NaN\",\"NaN\",\"NaN\",\"NaN\",\"NaN\",\"NaN\",\"NaN\",\"NaN\",\"NaN\",\"NaN\",\"NaN\",\"NaN\",\"NaN\",\"NaN\",\"NaN\",\"NaN\",\"NaN\",\"NaN\",\"NaN\",\"NaN\",\"NaN\",\"NaN\",\"NaN\",\"NaN\",\"NaN\",\"NaN\",\"NaN\",\"NaN\",\"NaN\",\"NaN\",\"NaN\",\"NaN\",\"NaN\",\"NaN\",\"NaN\",\"NaN\",\"NaN\",\"NaN\",\"NaN\",\"NaN\",\"NaN\",\"NaN\",\"NaN\",\"NaN\",\"NaN\",\"NaN\",\"NaN\",\"NaN\",\"NaN\",\"NaN\",\"NaN\",\"NaN\",\"NaN\",\"NaN\",\"NaN\",\"NaN\",\"NaN\",\"NaN\",\"NaN\",\"NaN\",\"NaN\",\"NaN\",\"NaN\",\"NaN\",\"NaN\",\"NaN\",\"NaN\",\"NaN\",\"NaN\",\"NaN\",\"NaN\",\"NaN\",\"NaN\",\"NaN\",\"NaN\",\"NaN\",\"NaN\",\"NaN\",\"NaN\",\"NaN\",\"NaN\",\"NaN\",\"NaN\",\"NaN\",\"NaN\",\"NaN\",\"NaN\",\"NaN\",\"NaN\",\"NaN\",\"NaN\",\"NaN\",\"NaN\",\"NaN\",\"NaN\",\"NaN\",\"NaN\",\"NaN\",\"NaN\",\"NaN\",\"NaN\",\"NaN\",\"NaN\",\"NaN\",\"NaN\",\"NaN\",\"NaN\",\"NaN\",\"NaN\",\"NaN\",\"NaN\",\"NaN\",\"NaN\",\"NaN\",\"NaN\",\"NaN\",\"NaN\",\"NaN\",\"NaN\",\"NaN\",\"NaN\",\"NaN\",\"NaN\",\"NaN\",\"NaN\",\"NaN\",\"NaN\",\"NaN\",\"NaN\",\"NaN\",\"NaN\",\"NaN\",\"NaN\",\"NaN\",\"NaN\",\"NaN\",\"NaN\",\"NaN\",\"NaN\",\"NaN\",\"NaN\",\"NaN\",\"NaN\",\"NaN\",\"NaN\",\"NaN\",\"NaN\",\"NaN\",\"NaN\",\"NaN\",\"NaN\",\"NaN\",\"NaN\",\"NaN\",\"NaN\",\"NaN\",\"NaN\",\"NaN\",\"NaN\",\"NaN\",\"NaN\",\"NaN\",\"NaN\",\"NaN\",\"NaN\",\"NaN\",\"NaN\",\"NaN\",\"NaN\",\"NaN\",\"NaN\",\"NaN\",\"NaN\",\"NaN\",\"NaN\",\"NaN\",\"NaN\",\"NaN\",\"NaN\",\"NaN\",\"NaN\",\"NaN\",\"NaN\",\"NaN\",\"NaN\",\"NaN\",\"NaN\",\"NaN\",\"NaN\",\"NaN\",\"NaN\",\"NaN\",\"NaN\",\"NaN\",\"NaN\",\"NaN\",\"NaN\",\"NaN\",\"NaN\",\"NaN\",\"NaN\",\"NaN\",\"NaN\",\"NaN\",\"NaN\",\"NaN\",\"NaN\",\"NaN\",\"NaN\",\"NaN\",\"NaN\",\"NaN\",\"NaN\",\"NaN\",\"NaN\",\"NaN\",\"NaN\",\"NaN\",\"NaN\",\"NaN\",\"NaN\",\"NaN\",\"NaN\",\"NaN\",\"NaN\",\"NaN\",\"NaN\",\"NaN\",\"NaN\",\"NaN\",\"NaN\",\"NaN\",\"NaN\",\"NaN\",\"NaN\",\"NaN\",\"NaN\",\"NaN\",\"NaN\",\"NaN\",\"NaN\",\"NaN\",\"NaN\",\"NaN\",\"NaN\",\"NaN\",\"NaN\",\"NaN\",\"NaN\",\"NaN\",\"NaN\",\"NaN\",\"NaN\",\"NaN\",\"NaN\",\"NaN\",\"NaN\",\"NaN\",\"NaN\",\"NaN\",\"NaN\",\"NaN\",\"NaN\",\"NaN\",\"NaN\",\"NaN\",\"NaN\",\"NaN\",\"NaN\",\"NaN\",\"NaN\",\"NaN\",\"NaN\",\"NaN\",\"NaN\",\"NaN\",\"NaN\",\"NaN\",\"NaN\"],\"index\":[0,1,2,3,4,5,6,7,8,9,10,11,12,13,14,15,16,17,18,19,20,21,22,23,24,25,26,27,28,29,30,31,32,33,34,35,36,37,38,39,40,41,42,43,44,45,46,47,48,49,50,51,52,53,54,55,56,57,58,59,60,61,62,63,64,65,66,67,68,69,70,71,72,73,74,75,76,77,78,79,80,81,82,83,84,85,86,87,88,89,90,91,92,93,94,95,96,97,98,99,100,101,102,103,104,105,106,107,108,109,110,111,112,113,114,115,116,117,118,119,120,121,122,123,124,125,126,127,128,129,130,131,132,133,134,135,136,137,138,139,140,141,142,143,144,145,146,147,148,149,150,151,152,153,154,155,156,157,158,159,160,161,162,163,164,165,166,167,168,169,170,171,172,173,174,175,176,177,178,179,180,181,182,183,184,185,186,187,188,189,190,191,192,193,194,195,196,197,198,199,200,201,202,203,204,205,206,207,208,209,210,211,212,213,214,215,216,217,218,219,220,221,222,223,224,225,226,227,228,229,230,231,232,233,234,235,236,237,238,239,240,241,242,243,244,245,246,247,248,249,250,251,252,253,254,255,256,257,258,259,260,261,262,263,264,265,266,267,268,269,270,271,272,273,274,275,276,277,278,279,280,281,282,283,284,285,286,287,288,289,290,291,292,293,294,295,296,297,298,299,300,301,302,303,304,305,306,307,308,309,310,311,312,313,314,315,316,317,318,319,320,321,322,323,324,325,326,327,328,329,330,331,332,333,334,335,336,337,338,339,340,341,342,343,344,345,346,347,348,349,350,351,352,353,354,355,356,357,358,359,360,361,362,363,364,365,366,367,368,369,370,371,372,373,374],\"word\":[\"accept\",\"according\",\"accused\",\"act\",\"acts\",\"additional\",\"address\",\"adopted\",\"affairs\",\"agencies\",\"agreement\",\"aid\",\"aides\",\"alexander\",\"allegation\",\"allegations\",\"alleged\",\"alleging\",\"allow\",\"announce\",\"announcement\",\"anonymous\",\"answer\",\"appointees\",\"appropriate\",\"april\",\"argued\",\"arrived\",\"article\",\"articles\",\"asking\",\"associate\",\"attack\",\"attacking\",\"attend\",\"august\",\"author\",\"authority\",\"based\",\"began\",\"beginning\",\"behalf\",\"benefit\",\"bipartisan\",\"bolton\",\"branch\",\"brazen\",\"break\",\"briefing\",\"called\",\"calling\",\"carolyn\",\"case\",\"categorical\",\"catherine\",\"center\",\"chairmen\",\"chairs\",\"charge\",\"charles\",\"cipollone\",\"cited\",\"claim\",\"claims\",\"closely\",\"cnn\",\"colleagues\",\"come\",\"coming\",\"comment\",\"commit\",\"company\",\"complete\",\"conceal\",\"concerned\",\"concerns\",\"conditioned\",\"conducting\",\"congressional\",\"conspiracy\",\"consult\",\"contact\",\"continues\",\"continuing\",\"control\",\"cooperate\",\"coordination\",\"corruption\",\"council\",\"crazy\",\"crescendo\",\"croft\",\"current\",\"david\",\"declaring\",\"deeply\",\"defied\",\"defy\",\"deliverable\",\"demands\",\"democrats\",\"demonstrate\",\"demonstrated\",\"deputy\",\"detailed\",\"devin\",\"did\",\"discuss\",\"discussed\",\"discussion\",\"discussions\",\"document\",\"does\",\"doing\",\"don\",\"doubling\",\"draft\",\"dramatic\",\"driven\",\"early\",\"eliot\",\"end\",\"endangered\",\"engaged\",\"engel\",\"ensure\",\"events\",\"executive\",\"exercising\",\"existence\",\"expected\",\"explain\",\"explanation\",\"explicitly\",\"extended\",\"face\",\"faced\",\"facilitated\",\"fails\",\"faith\",\"false\",\"family\",\"far\",\"findings\",\"focus\",\"following\",\"force\",\"form\",\"forward\",\"fully\",\"george\",\"going\",\"goldman\",\"good\",\"governments\",\"grave\",\"hard\",\"harm\",\"harmed\",\"having\",\"hearings\",\"help\",\"helped\",\"hill\",\"history\",\"holmes\",\"human\",\"imagine\",\"impeach\",\"impeachable\",\"incident\",\"included\",\"individuals\",\"influence\",\"informed\",\"instead\",\"integrity\",\"interests\",\"interfered\",\"intimidate\",\"intimidated\",\"invite\",\"issue\",\"issues\",\"jennifer\",\"join\",\"judgment\",\"kent\",\"kind\",\"know\",\"kupperman\",\"kurt\",\"kyiv\",\"later\",\"laura\",\"lawyer\",\"leading\",\"learn\",\"learned\",\"lev\",\"level\",\"lifted\",\"linked\",\"listened\",\"logjam\",\"longer\",\"look\",\"lunch\",\"majority\",\"make\",\"maloney\",\"meeting\",\"mentioned\",\"message\",\"met\",\"michael\",\"military\",\"minority\",\"minutes\",\"months\",\"morrison\",\"multiple\",\"nancy\",\"nation\",\"negotiations\",\"new\",\"night\",\"north\",\"numerous\",\"obstruct\",\"obstruction\",\"obtained\",\"offenses\",\"officer\",\"omb\",\"open\",\"openly\",\"opponent\",\"order\",\"ordered\",\"outlines\",\"outside\",\"oversight\",\"overwhelming\",\"parnas\",\"participate\",\"particularly\",\"parties\",\"party\",\"pat\",\"pelosi\",\"pence\",\"perry\",\"persisted\",\"placed\",\"plan\",\"planning\",\"plans\",\"potential\",\"potentially\",\"powers\",\"precedent\",\"presidential\",\"press\",\"pressed\",\"proceedings\",\"produced\",\"prospective\",\"provide\",\"provided\",\"pursue\",\"push\",\"putin\",\"question\",\"questions\",\"reason\",\"recommending\",\"reelection\",\"refusal\",\"rejected\",\"related\",\"relations\",\"release\",\"remains\",\"repeatedly\",\"reports\",\"representatives\",\"request\",\"required\",\"responded\",\"responsible\",\"revelation\",\"rick\",\"risk\",\"rival\",\"role\",\"rules\",\"russian\",\"sat\",\"says\",\"section\",\"seek\",\"senate\",\"send\",\"sent\",\"separate\",\"september\",\"service\",\"set\",\"single\",\"smear\",\"solicited\",\"soon\",\"speaker\",\"specifically\",\"spokesman\",\"standard\",\"statements\",\"step\",\"story\",\"stronger\",\"subordinates\",\"subpoenaed\",\"subpoenas\",\"subvert\",\"talking\",\"taylor\",\"tell\",\"testified\",\"text\",\"theory\",\"think\",\"threat\",\"tied\",\"times\",\"timothy\",\"traveled\",\"trip\",\"trying\",\"tuesday\",\"ukrainians\",\"ultimately\",\"unable\",\"unanswered\",\"uncovered\",\"uncovering\",\"undermine\",\"united\",\"unprecedented\",\"upcoming\",\"urgency\",\"urging\",\"using\",\"valid\",\"version\",\"vindman\",\"vladimir\",\"volker\",\"vote\",\"wants\",\"warsaw\",\"washington\",\"wednesday\",\"whistleblower\",\"william\",\"williams\",\"withheld\",\"withholding\",\"witness\",\"work\",\"world\",\"wrong\",\"year\",\"york\",\"zelensky\"],\"x\":{\"__ndarray__\":\"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\",\"dtype\":\"float64\",\"shape\":[375]},\"y\":{\"__ndarray__\":\"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\",\"dtype\":\"float64\",\"shape\":[375]}},\"selected\":{\"id\":\"1162\",\"type\":\"Selection\"},\"selection_policy\":{\"id\":\"1161\",\"type\":\"UnionRenderers\"}},\"id\":\"1106\",\"type\":\"ColumnDataSource\"},{\"attributes\":{},\"id\":\"1162\",\"type\":\"Selection\"},{\"attributes\":{},\"id\":\"1132\",\"type\":\"ResetTool\"},{\"attributes\":{},\"id\":\"1133\",\"type\":\"HelpTool\"},{\"attributes\":{\"dimension\":1,\"ticker\":{\"id\":\"1124\",\"type\":\"BasicTicker\"}},\"id\":\"1127\",\"type\":\"Grid\"},{\"attributes\":{\"data_source\":{\"id\":\"1106\",\"type\":\"ColumnDataSource\"},\"glyph\":{\"id\":\"1142\",\"type\":\"Circle\"},\"hover_glyph\":null,\"muted_glyph\":null,\"nonselection_glyph\":{\"id\":\"1143\",\"type\":\"Circle\"},\"selection_glyph\":null,\"view\":{\"id\":\"1145\",\"type\":\"CDSView\"}},\"id\":\"1144\",\"type\":\"GlyphRenderer\"},{\"attributes\":{\"bottom_units\":\"screen\",\"fill_alpha\":{\"value\":0.5},\"fill_color\":{\"value\":\"lightgrey\"},\"left_units\":\"screen\",\"level\":\"overlay\",\"line_alpha\":{\"value\":1.0},\"line_color\":{\"value\":\"black\"},\"line_dash\":[4,4],\"line_width\":{\"value\":2},\"render_mode\":\"css\",\"right_units\":\"screen\",\"top_units\":\"screen\"},\"id\":\"1163\",\"type\":\"BoxAnnotation\"},{\"attributes\":{\"ticker\":{\"id\":\"1119\",\"type\":\"BasicTicker\"}},\"id\":\"1122\",\"type\":\"Grid\"},{\"attributes\":{},\"id\":\"1116\",\"type\":\"LinearScale\"},{\"attributes\":{\"callback\":null},\"id\":\"1110\",\"type\":\"DataRange1d\"},{\"attributes\":{\"fill_alpha\":{\"value\":0.8},\"fill_color\":{\"value\":\"#1f77b4\"},\"size\":{\"units\":\"screen\",\"value\":12},\"x\":{\"field\":\"x\"},\"y\":{\"field\":\"y\"}},\"id\":\"1142\",\"type\":\"Circle\"},{\"attributes\":{},\"id\":\"1131\",\"type\":\"SaveTool\"},{\"attributes\":{},\"id\":\"1159\",\"type\":\"BasicTickFormatter\"},{\"attributes\":{\"fill_alpha\":{\"value\":0.1},\"fill_color\":{\"value\":\"#1f77b4\"},\"line_alpha\":{\"value\":0.1},\"line_color\":{\"value\":\"#1f77b4\"},\"size\":{\"units\":\"screen\",\"value\":12},\"x\":{\"field\":\"x\"},\"y\":{\"field\":\"y\"}},\"id\":\"1143\",\"type\":\"Circle\"},{\"attributes\":{},\"id\":\"1114\",\"type\":\"LinearScale\"},{\"attributes\":{},\"id\":\"1157\",\"type\":\"BasicTickFormatter\"},{\"attributes\":{},\"id\":\"1119\",\"type\":\"BasicTicker\"},{\"attributes\":{\"active_drag\":\"auto\",\"active_inspect\":\"auto\",\"active_multi\":null,\"active_scroll\":\"auto\",\"active_tap\":\"auto\",\"tools\":[{\"id\":\"1128\",\"type\":\"PanTool\"},{\"id\":\"1129\",\"type\":\"WheelZoomTool\"},{\"id\":\"1130\",\"type\":\"BoxZoomTool\"},{\"id\":\"1131\",\"type\":\"SaveTool\"},{\"id\":\"1132\",\"type\":\"ResetTool\"},{\"id\":\"1133\",\"type\":\"HelpTool\"}]},\"id\":\"1134\",\"type\":\"Toolbar\"},{\"attributes\":{},\"id\":\"1128\",\"type\":\"PanTool\"},{\"attributes\":{\"source\":{\"id\":\"1106\",\"type\":\"ColumnDataSource\"},\"text\":{\"field\":\"word\"},\"text_align\":\"center\",\"text_color\":{\"value\":\"#555555\"},\"text_font_size\":{\"value\":\"8pt\"},\"x\":{\"field\":\"x\"},\"y\":{\"field\":\"y\"},\"y_offset\":{\"value\":8}},\"id\":\"1107\",\"type\":\"LabelSet\"},{\"attributes\":{},\"id\":\"1161\",\"type\":\"UnionRenderers\"},{\"attributes\":{\"formatter\":{\"id\":\"1159\",\"type\":\"BasicTickFormatter\"},\"ticker\":{\"id\":\"1124\",\"type\":\"BasicTicker\"}},\"id\":\"1123\",\"type\":\"LinearAxis\"},{\"attributes\":{\"callback\":null},\"id\":\"1112\",\"type\":\"DataRange1d\"},{\"attributes\":{},\"id\":\"1124\",\"type\":\"BasicTicker\"},{\"attributes\":{\"source\":{\"id\":\"1106\",\"type\":\"ColumnDataSource\"}},\"id\":\"1145\",\"type\":\"CDSView\"},{\"attributes\":{},\"id\":\"1129\",\"type\":\"WheelZoomTool\"},{\"attributes\":{\"formatter\":{\"id\":\"1157\",\"type\":\"BasicTickFormatter\"},\"ticker\":{\"id\":\"1119\",\"type\":\"BasicTicker\"}},\"id\":\"1118\",\"type\":\"LinearAxis\"},{\"attributes\":{\"overlay\":{\"id\":\"1163\",\"type\":\"BoxAnnotation\"}},\"id\":\"1130\",\"type\":\"BoxZoomTool\"}],\"root_ids\":[\"1109\"]},\"title\":\"Bokeh Application\",\"version\":\"1.4.0\"}};\n",
       "  var render_items = [{\"docid\":\"d9624d66-651d-4c9a-a4f4-489f17ba4429\",\"notebook_comms_target\":\"1164\",\"roots\":{\"1109\":\"a1e9626b-12ba-4d6d-9744-821ba93b6af2\"}}];\n",
       "  root.Bokeh.embed.embed_items_notebook(docs_json, render_items);\n",
       "\n",
       "  }\n",
       "  if (root.Bokeh !== undefined) {\n",
       "    embed_document(root);\n",
       "  } else {\n",
       "    var attempts = 0;\n",
       "    var timer = setInterval(function(root) {\n",
       "      if (root.Bokeh !== undefined) {\n",
       "        clearInterval(timer);\n",
       "        embed_document(root);\n",
       "      } else {\n",
       "        attempts++;\n",
       "        if (attempts > 100) {\n",
       "          clearInterval(timer);\n",
       "          console.log(\"Bokeh: ERROR: Unable to run BokehJS code because BokehJS library is missing\");\n",
       "        }\n",
       "      }\n",
       "    }, 10, root)\n",
       "  }\n",
       "})(window);"
      ],
      "application/vnd.bokehjs_exec.v0+json": ""
     },
     "metadata": {
      "application/vnd.bokehjs_exec.v0+json": {
       "id": "1109"
      }
     },
     "output_type": "display_data"
    },
    {
     "data": {
      "text/html": [
       "<p><code>&lt;Bokeh Notebook handle for <strong>In[145]</strong>&gt;</code></p>"
      ],
      "text/plain": [
       "<bokeh.io.notebook.CommsHandle at 0x7fb19be96310>"
      ]
     },
     "execution_count": 145,
     "metadata": {},
     "output_type": "execute_result"
    }
   ],
   "source": [
    "svd = TruncatedSVD(n_components=2)\n",
    "words_2d = svd.fit_transform(data_vectorized.T)\n",
    "df = pd.DataFrame(columns=['x', 'y', 'document'])\n",
    "df['x'], df['y'], df['word'] = words_2d[:,0], words_2d[:,1], vectorizer.get_feature_names()\n",
    "source = ColumnDataSource(ColumnDataSource.from_df(df))\n",
    "labels = LabelSet(x=\"x\", y=\"y\", text=\"word\", y_offset=8,\n",
    "                  text_font_size=\"8pt\", text_color=\"#555555\",\n",
    "                  source=source, text_align='center')\n",
    "plot = figure(plot_width=600, plot_height=600)\n",
    "plot.circle(\"x\", \"y\", size=12, source=source, line_color=\"black\", fill_alpha=0.8)\n",
    "plot.add_layout(labels)\n",
    "show(plot, notebook_handle=True)"
   ]
  },
  {
   "cell_type": "markdown",
   "metadata": {},
   "source": [
    "## More about Latent Dirichlet Allocation\n",
    "\n",
    "\n",
    "LDA is the most popular method for doing topic modeling in real-world applications. That is because it provides accurate results, can be trained online (do not retrain every time we get new data) and can be run on multiple cores. Let’s repeat the process we did in the previous sections with sklearn and LatentDirichletAllocation."
   ]
  },
  {
   "cell_type": "code",
   "execution_count": 149,
   "metadata": {},
   "outputs": [],
   "source": [
    "from sklearn.feature_extraction.text import CountVectorizer\n",
    "from sklearn.decomposition import LatentDirichletAllocation\n",
    "from sklearn.decomposition import NMF, LatentDirichletAllocation, TruncatedSVD"
   ]
  },
  {
   "cell_type": "code",
   "execution_count": 177,
   "metadata": {},
   "outputs": [
    {
     "name": "stdout",
     "output_type": "stream",
     "text": [
      "[0.05080756 0.0507848  0.40283253 0.05192533 0.44364977] 1.0\n"
     ]
    }
   ],
   "source": [
    "NUM_TOPICS = 5\n",
    "\n",
    "vectorizer = CountVectorizer(min_df=3, max_df=0.9, stop_words='english', lowercase=True, \n",
    "                             token_pattern='[a-zA-Z\\-][a-zA-Z\\-]{2,}')\n",
    "data_vectorized = vectorizer.fit_transform(article_data)\n",
    "                             \n",
    "# Build a Latent Dirichlet Allocation Model\n",
    "lda_model = LatentDirichletAllocation(n_components=NUM_TOPICS, max_iter=10, learning_method='online')\n",
    "lda_Z = lda_model.fit_transform(data_vectorized)\n",
    " \n",
    "text = \"The President is underfire for his corrupt behavior. Trump Zelensky impeachment democrats volker\"\n",
    "x = lda_model.transform(vectorizer.transform([text]))[0]\n",
    "# the largest topic contributes more to the document than the smaller topics\n",
    "print(x, x.sum())"
   ]
  },
  {
   "cell_type": "code",
   "execution_count": 179,
   "metadata": {},
   "outputs": [
    {
     "name": "stderr",
     "output_type": "stream",
     "text": [
      "/home/john/anaconda3/envs/nlp/lib/python3.7/site-packages/pyLDAvis/_prepare.py:257: FutureWarning: Sorting because non-concatenation axis is not aligned. A future version\n",
      "of pandas will change to not sort by default.\n",
      "\n",
      "To accept the future behavior, pass 'sort=False'.\n",
      "\n",
      "To retain the current behavior and silence the warning, pass 'sort=True'.\n",
      "\n",
      "  return pd.concat([default_term_info] + list(topic_dfs))\n"
     ]
    },
    {
     "data": {
      "text/html": [
       "\n",
       "<link rel=\"stylesheet\" type=\"text/css\" href=\"https://cdn.rawgit.com/bmabey/pyLDAvis/files/ldavis.v1.0.0.css\">\n",
       "\n",
       "\n",
       "<div id=\"ldavis_el217051404006348068646525293963\"></div>\n",
       "<script type=\"text/javascript\">\n",
       "\n",
       "var ldavis_el217051404006348068646525293963_data = {\"mdsDat\": {\"x\": [-119.74676513671875, -63.18699264526367, 50.5373649597168, 93.30047607421875, 3.6608190536499023], \"y\": [-56.879825592041016, 56.36240768432617, 111.94139862060547, -11.83088207244873, -100.68221282958984], \"topics\": [1, 2, 3, 4, 5], \"cluster\": [1, 1, 1, 1, 1], \"Freq\": [59.727028240565815, 38.71379654497712, 1.549658005068081, 0.004760193315009548, 0.004757016073967476]}, \"tinfo\": {\"Category\": [\"Default\", \"Default\", \"Default\", \"Default\", \"Default\", \"Default\", \"Default\", \"Default\", \"Default\", \"Default\", \"Default\", \"Default\", \"Default\", \"Default\", \"Default\", \"Default\", \"Default\", \"Default\", \"Default\", \"Default\", \"Default\", \"Default\", \"Default\", \"Default\", \"Default\", \"Default\", \"Default\", \"Default\", \"Default\", \"Default\", \"Topic1\", \"Topic1\", \"Topic1\", \"Topic1\", \"Topic1\", \"Topic1\", \"Topic1\", \"Topic1\", \"Topic1\", \"Topic1\", \"Topic1\", \"Topic1\", \"Topic1\", \"Topic1\", \"Topic1\", \"Topic1\", \"Topic1\", \"Topic1\", \"Topic1\", \"Topic1\", \"Topic1\", \"Topic1\", \"Topic1\", \"Topic1\", \"Topic1\", \"Topic1\", \"Topic1\", \"Topic1\", \"Topic1\", \"Topic1\", \"Topic1\", \"Topic1\", \"Topic1\", \"Topic1\", \"Topic1\", \"Topic1\", \"Topic1\", \"Topic1\", \"Topic1\", \"Topic1\", \"Topic1\", \"Topic1\", \"Topic1\", \"Topic1\", \"Topic1\", \"Topic1\", \"Topic2\", \"Topic2\", \"Topic2\", \"Topic2\", \"Topic2\", \"Topic2\", \"Topic2\", \"Topic2\", \"Topic2\", \"Topic2\", \"Topic2\", \"Topic2\", \"Topic2\", \"Topic2\", \"Topic2\", \"Topic2\", \"Topic2\", \"Topic2\", \"Topic2\", \"Topic2\", \"Topic2\", \"Topic2\", \"Topic2\", \"Topic2\", \"Topic2\", \"Topic2\", \"Topic2\", \"Topic2\", \"Topic2\", \"Topic2\", \"Topic2\", \"Topic2\", \"Topic2\", \"Topic2\", \"Topic2\", \"Topic2\", \"Topic2\", \"Topic2\", \"Topic2\", \"Topic2\", \"Topic2\", \"Topic2\", \"Topic2\", \"Topic2\", \"Topic2\", \"Topic2\", \"Topic2\", \"Topic2\", \"Topic2\", \"Topic2\", \"Topic2\", \"Topic2\", \"Topic2\", \"Topic2\", \"Topic2\", \"Topic2\", \"Topic2\", \"Topic2\", \"Topic2\", \"Topic2\", \"Topic2\", \"Topic2\", \"Topic2\", \"Topic2\", \"Topic2\", \"Topic2\", \"Topic2\", \"Topic2\", \"Topic2\", \"Topic2\", \"Topic2\", \"Topic3\", \"Topic3\", \"Topic3\", \"Topic3\", \"Topic3\", \"Topic3\", \"Topic3\", \"Topic3\", \"Topic3\", \"Topic3\", \"Topic3\", \"Topic3\", \"Topic3\", \"Topic3\", \"Topic3\", \"Topic3\", \"Topic3\", \"Topic3\", \"Topic3\", \"Topic3\", \"Topic3\", \"Topic3\", \"Topic3\", \"Topic3\", \"Topic3\", \"Topic3\", \"Topic3\", \"Topic3\", \"Topic3\", \"Topic3\", \"Topic3\", \"Topic3\", \"Topic3\", \"Topic3\", \"Topic3\", \"Topic3\", \"Topic3\", \"Topic3\", \"Topic3\", \"Topic3\", \"Topic3\", \"Topic3\", \"Topic3\", \"Topic3\", \"Topic3\", \"Topic3\", \"Topic3\", \"Topic3\", \"Topic3\", \"Topic3\", \"Topic3\", \"Topic3\", \"Topic3\", \"Topic3\", \"Topic3\", \"Topic3\", \"Topic3\", \"Topic3\", \"Topic3\", \"Topic3\", \"Topic3\", \"Topic3\", \"Topic3\", \"Topic3\", \"Topic3\", \"Topic4\", \"Topic4\", \"Topic4\", \"Topic4\", \"Topic4\", \"Topic4\", \"Topic4\", \"Topic4\", \"Topic4\", \"Topic4\", \"Topic4\", \"Topic4\", \"Topic4\", \"Topic4\", \"Topic4\", \"Topic4\", \"Topic4\", \"Topic4\", \"Topic4\", \"Topic4\", \"Topic4\", \"Topic4\", \"Topic4\", \"Topic4\", \"Topic4\", \"Topic4\", \"Topic4\", \"Topic4\", \"Topic4\", \"Topic4\", \"Topic4\", \"Topic4\", \"Topic4\", \"Topic4\", \"Topic4\", \"Topic4\", \"Topic4\", \"Topic4\", \"Topic4\", \"Topic4\", \"Topic4\", \"Topic4\", \"Topic4\", \"Topic4\", \"Topic4\", \"Topic4\", \"Topic4\", \"Topic4\", \"Topic4\", \"Topic4\", \"Topic4\", \"Topic4\", \"Topic4\", \"Topic4\", \"Topic4\", \"Topic4\", \"Topic4\", \"Topic4\", \"Topic4\", \"Topic4\", \"Topic4\", \"Topic4\", \"Topic4\", \"Topic4\", \"Topic4\", \"Topic4\", \"Topic4\", \"Topic4\", \"Topic4\", \"Topic4\", \"Topic4\", \"Topic5\", \"Topic5\", \"Topic5\", \"Topic5\", \"Topic5\", \"Topic5\", \"Topic5\", \"Topic5\", \"Topic5\", \"Topic5\", \"Topic5\", \"Topic5\", \"Topic5\", \"Topic5\", \"Topic5\", \"Topic5\", \"Topic5\", \"Topic5\", \"Topic5\", \"Topic5\", \"Topic5\", \"Topic5\", \"Topic5\", \"Topic5\", \"Topic5\", \"Topic5\", \"Topic5\", \"Topic5\", \"Topic5\", \"Topic5\", \"Topic5\", \"Topic5\", \"Topic5\", \"Topic5\", \"Topic5\", \"Topic5\", \"Topic5\", \"Topic5\", \"Topic5\", \"Topic5\", \"Topic5\", \"Topic5\", \"Topic5\", \"Topic5\", \"Topic5\", \"Topic5\", \"Topic5\", \"Topic5\", \"Topic5\", \"Topic5\", \"Topic5\", \"Topic5\", \"Topic5\", \"Topic5\", \"Topic5\", \"Topic5\", \"Topic5\", \"Topic5\", \"Topic5\", \"Topic5\", \"Topic5\", \"Topic5\", \"Topic5\", \"Topic5\", \"Topic5\", \"Topic5\", \"Topic5\"], \"Freq\": [426.0, 613.0, 430.0, 274.0, 257.0, 254.0, 206.0, 222.0, 193.0, 233.0, 173.0, 197.0, 170.0, 155.0, 153.0, 238.0, 151.0, 150.0, 161.0, 148.0, 131.0, 136.0, 124.0, 120.0, 130.0, 107.0, 106.0, 126.0, 144.0, 144.0, 148.71594784259213, 124.15766154151893, 100.4903157895431, 101.17637970813331, 67.65728373860928, 85.68836230962816, 52.96693315700883, 155.34520079243688, 172.32999246744515, 45.76526873444885, 39.78050138819619, 24.00468282411708, 135.5413173237585, 79.07766921458635, 38.816633441363045, 40.886443804914805, 37.67043941105813, 35.080586606420624, 237.60728206677317, 106.79514681360271, 55.85591950663865, 31.42545577544435, 125.23392286187772, 9.813791692975052, 29.019861411692215, 98.99172763854202, 42.86345562856833, 37.704715223201035, 34.23502391702745, 105.12313394223946, 338.77293390935023, 205.1936921695958, 119.3679254540338, 133.53327678915804, 165.45142885077325, 186.9478334112729, 120.64466297882825, 140.57380618142466, 144.43077053588073, 259.54476247423133, 89.10163658547015, 294.4423434378444, 118.4015551546337, 73.72742427331137, 107.58706747643063, 76.38000413715135, 10.250011276512785, 20.458589893611578, 9.017560561615305, 9.112795877322993, 12.967475847197957, 6.304460930454786, 21.760767963211165, 16.770950508829532, 11.967730148224506, 9.199353455102893, 8.355579197758589, 5.32402892638599, 9.201841915213738, 12.96343463021971, 9.167499313723205, 9.131225020077423, 5.366625391790906, 16.63716103425785, 5.34405146591523, 5.352122853635542, 79.75309759707868, 5.338066478129948, 5.216764018712306, 5.247151967443959, 5.296124021411646, 74.62907394197781, 5.242653189196555, 25.990213668432848, 17.06573369584576, 20.76453653542735, 39.70589759158056, 36.36288691520114, 19.748874666815237, 100.15078199980226, 28.257116266978365, 16.65548812864815, 31.80365914830352, 17.261715854993934, 20.003484062053325, 315.1773073807104, 85.37176613182598, 46.87392022708361, 28.5592048619912, 69.31739076516222, 74.31270603530896, 62.80493428195966, 124.43788207790905, 71.20280790361093, 43.7803006902205, 51.824969142079254, 118.46475705946929, 24.603894141304455, 45.13117485015002, 51.24160930010287, 53.52564264507451, 166.6883585392478, 68.09201273112869, 70.83128656707787, 29.633606816846676, 46.99046574724434, 56.623932856955854, 39.5696501557029, 53.69088732425653, 31.163057181768824, 60.19897030325099, 42.812439633714476, 83.24646309896444, 65.10148677947726, 54.8003384884288, 55.7853786614091, 49.39464330533599, 1.420879358587502, 0.9862284215963917, 1.2693816830430646, 1.631419252415268, 0.6294109674154454, 2.5943214314136678, 1.101545638577571, 0.8747473460439225, 0.6637659226813931, 1.2822908113557456, 3.972498891957476, 0.9603304550191913, 0.62174134047313, 0.5456423377430123, 0.5390748578079153, 0.8900505906867165, 1.331877271181752, 0.5337451896287931, 0.5244763714947906, 0.5279112008779954, 0.5292025152727533, 0.5288478593829822, 0.574606698587084, 0.5598999397997323, 4.005066342865202, 0.551115956346985, 0.5442896035717798, 0.5508336766658162, 0.5151625824095807, 0.5670652759923787, 1.3636543688884744, 1.3646699866685958, 0.9356284623288534, 0.944550522867118, 2.2508048382970958, 1.41338684275042, 2.2739531097247845, 4.85519846474818, 1.0442855378612084, 1.1098176194630516, 4.317178329081594, 0.7185458273692727, 3.0268823234562428, 2.1649099311040514, 1.0282410616585547, 2.21233015926613, 2.761627264539011, 2.2596366353292616, 2.6134008735293865, 2.1523391670074434, 3.5438620346511227, 1.7982801132942285, 2.0187092030615976, 2.13379548172034, 1.9762935197888465, 1.904612629451793, 1.9404260375226352, 1.7122557486751708, 1.7671529800045196, 1.74741715658859, 1.638724085334227, 1.5984842367531922, 1.540254323720102, 1.5740916576907675, 1.5550731823009056, 0.0012069095155296799, 0.0010443958998838407, 0.001306498247886927, 0.0013910103455327426, 0.001281147814758412, 0.0012566532517705273, 0.0013323462623477111, 0.0012007810918891542, 0.0011792494786484577, 0.0013650465184602077, 0.001337386176743098, 0.001164145669131502, 0.001106522199109468, 0.0012842854742097772, 0.0012658032238271832, 0.0011866542813200964, 0.0012436252346961904, 0.001166754175681533, 0.0013345057656696776, 0.0012513263453723781, 0.0010243530219856368, 0.0011071083464210532, 0.0012531145730574197, 0.0013049218853699873, 0.0012187906249778832, 0.001133946065801918, 0.0012729388773329788, 0.0016107108343720656, 0.001067781286937283, 0.001073062317858531, 0.001377035687169255, 0.001379018817426209, 0.0014964759162903827, 0.001214560384701903, 0.0014962024451559534, 0.003419274292860696, 0.014262353324371561, 0.001861767505130571, 0.01278210801574527, 0.009499896795867904, 0.009158959650122759, 0.007126476736001682, 0.007780255656235136, 0.013697671578577085, 0.007810448777159644, 0.007148408502433835, 0.005851763360569667, 0.004300927374832279, 0.005153577578799349, 0.0055809258854402, 0.006252033266497245, 0.00422547521287242, 0.0038161840566402617, 0.004950938764487575, 0.005215612073977747, 0.006144231635824918, 0.005353557551323442, 0.0055899288021687, 0.003609936390619583, 0.004534110298159117, 0.004275565209619886, 0.004555141436239122, 0.004821320516103425, 0.004117688433099234, 0.004640695660196268, 0.004427316573389352, 0.004539494334625963, 0.005324102955026277, 0.004177910460386811, 0.004234302363232143, 0.004317836525038769, 0.0013354934784796358, 0.0011842342912818575, 0.0013327800529684174, 0.0012661511603911393, 0.0012963659429421114, 0.0013657802148831883, 0.0013179297308504926, 0.0012001160713855238, 0.001209253715396196, 0.0012094493647274859, 0.0011843658612853063, 0.0012854692106952764, 0.0012803625745161664, 0.001155294073992859, 0.0012978813634356898, 0.001282578712628572, 0.001205466973339309, 0.0011117531668571408, 0.0012140061944585898, 0.0012087160655011447, 0.0013611829299897196, 0.0013537551213815599, 0.0013241687227660746, 0.0011929500235778054, 0.001232817907306582, 0.0013883045616408024, 0.0012330711088582675, 0.0013337896205432018, 0.0013339030073708808, 0.0013256002050464966, 0.001321243819179196, 0.0016030506787652267, 0.001349432577808518, 0.014675724506304935, 0.0013823661492067046, 0.005669571039851646, 0.01182594944263023, 0.009130844772756618, 0.006883488063269291, 0.008175524030308646, 0.006767419309265496, 0.005840301935660604, 0.006974753306529188, 0.01070469807183917, 0.004844904685427849, 0.004310769353674687, 0.004177211509762465, 0.006137616793429032, 0.004438203821121656, 0.003190459817549702, 0.006555111970134894, 0.005143360326857015, 0.005089446733070723, 0.005677567152796457, 0.005197306457886133, 0.004808746209406506, 0.0033109095118616836, 0.00500143559142888, 0.004427404052105374, 0.004524231915050925, 0.005600878280907029, 0.004471369576969082, 0.004158284590796108, 0.004230576507919493, 0.00463909911316093, 0.004164602145945822, 0.004519310987518087], \"Term\": [\"volker\", \"zelensky\", \"meeting\", \"affairs\", \"oversight\", \"taylor\", \"september\", \"testified\", \"document\", \"military\", \"deputy\", \"did\", \"sent\", \"engel\", \"morrison\", \"united\", \"vindman\", \"hill\", \"august\", \"announcement\", \"eliot\", \"presidential\", \"omb\", \"council\", \"holmes\", \"kurt\", \"kent\", \"new\", \"executive\", \"aid\", \"engel\", \"eliot\", \"kent\", \"kurt\", \"williams\", \"parnas\", \"know\", \"deputy\", \"document\", \"york\", \"maloney\", \"devin\", \"morrison\", \"michael\", \"lev\", \"pat\", \"carolyn\", \"david\", \"affairs\", \"omb\", \"times\", \"kupperman\", \"hill\", \"push\", \"charles\", \"council\", \"story\", \"croft\", \"senate\", \"holmes\", \"volker\", \"oversight\", \"vindman\", \"sent\", \"testified\", \"taylor\", \"august\", \"did\", \"september\", \"meeting\", \"new\", \"zelensky\", \"united\", \"congressional\", \"military\", \"later\", \"subpoenaed\", \"categorical\", \"driven\", \"unanswered\", \"solicited\", \"don\", \"threat\", \"overwhelming\", \"subordinates\", \"demonstrate\", \"accused\", \"crescendo\", \"endangered\", \"tied\", \"standard\", \"deeply\", \"outlines\", \"harm\", \"recommending\", \"stronger\", \"reelection\", \"incident\", \"defied\", \"dramatic\", \"logjam\", \"conditioned\", \"allegation\", \"answer\", \"minority\", \"far\", \"nation\", \"unprecedented\", \"pressed\", \"announcement\", \"refusal\", \"integrity\", \"opponent\", \"rival\", \"acts\", \"zelensky\", \"aid\", \"benefit\", \"obstruction\", \"authority\", \"subpoenas\", \"order\", \"military\", \"following\", \"agencies\", \"interests\", \"united\", \"influence\", \"announce\", \"pence\", \"representatives\", \"meeting\", \"presidential\", \"executive\", \"engaged\", \"branch\", \"whistleblower\", \"help\", \"later\", \"work\", \"september\", \"washington\", \"volker\", \"taylor\", \"did\", \"testified\", \"oversight\", \"wednesday\", \"leading\", \"impeachable\", \"tuesday\", \"spokesman\", \"says\", \"vote\", \"family\", \"send\", \"lunch\", \"senate\", \"wants\", \"lawyer\", \"doubling\", \"crazy\", \"cited\", \"majority\", \"exercising\", \"harmed\", \"fails\", \"prospective\", \"uncovering\", \"facilitated\", \"governments\", \"democrats\", \"intimidated\", \"deliverable\", \"revelation\", \"persisted\", \"version\", \"laura\", \"contact\", \"subordinates\", \"join\", \"cipollone\", \"interfered\", \"michael\", \"volker\", \"company\", \"agreement\", \"meeting\", \"push\", \"oversight\", \"omb\", \"set\", \"hill\", \"affairs\", \"sent\", \"taylor\", \"morrison\", \"zelensky\", \"kurt\", \"engel\", \"did\", \"document\", \"deputy\", \"united\", \"executive\", \"september\", \"testified\", \"august\", \"eliot\", \"parnas\", \"vindman\", \"holmes\", \"leading\", \"spokesman\", \"wednesday\", \"harmed\", \"fails\", \"doubling\", \"lawyer\", \"uncovering\", \"crazy\", \"persisted\", \"facilitated\", \"prospective\", \"send\", \"revelation\", \"governments\", \"defied\", \"deliverable\", \"logjam\", \"north\", \"family\", \"exercising\", \"recommending\", \"step\", \"faced\", \"goldman\", \"intimidated\", \"author\", \"cited\", \"dramatic\", \"outlines\", \"demands\", \"vote\", \"wants\", \"impeachable\", \"vladimir\", \"senate\", \"meeting\", \"claim\", \"volker\", \"affairs\", \"oversight\", \"sent\", \"september\", \"zelensky\", \"taylor\", \"testified\", \"vindman\", \"cipollone\", \"omb\", \"announcement\", \"did\", \"michael\", \"associate\", \"presidential\", \"engel\", \"military\", \"deputy\", \"document\", \"williams\", \"subpoenas\", \"congressional\", \"later\", \"morrison\", \"kent\", \"executive\", \"holmes\", \"aid\", \"united\", \"council\", \"eliot\", \"hill\", \"leading\", \"spokesman\", \"wednesday\", \"send\", \"harmed\", \"allegation\", \"defied\", \"crazy\", \"exercising\", \"uncovering\", \"prospective\", \"crescendo\", \"outlines\", \"doubling\", \"deliverable\", \"intimidated\", \"urgency\", \"fails\", \"lawyer\", \"dramatic\", \"consult\", \"brazen\", \"family\", \"stronger\", \"governments\", \"version\", \"revelation\", \"imagine\", \"focus\", \"faith\", \"accept\", \"tuesday\", \"faced\", \"volker\", \"hard\", \"kurt\", \"meeting\", \"affairs\", \"deputy\", \"taylor\", \"document\", \"morrison\", \"military\", \"zelensky\", \"council\", \"parnas\", \"michael\", \"september\", \"kent\", \"democrats\", \"oversight\", \"vindman\", \"hill\", \"did\", \"august\", \"presidential\", \"know\", \"engel\", \"whistleblower\", \"new\", \"testified\", \"announcement\", \"omb\", \"eliot\", \"sent\", \"holmes\", \"united\"], \"Total\": [426.0, 613.0, 430.0, 274.0, 257.0, 254.0, 206.0, 222.0, 193.0, 233.0, 173.0, 197.0, 170.0, 155.0, 153.0, 238.0, 151.0, 150.0, 161.0, 148.0, 131.0, 136.0, 124.0, 120.0, 130.0, 107.0, 106.0, 126.0, 144.0, 144.0, 155.6445857554214, 131.08465757897906, 106.28838584238562, 107.3594957034508, 73.24150973743542, 95.35995756035011, 59.149637698685495, 173.5854689514014, 193.65145706619924, 51.71761753542018, 44.98001364576851, 27.172337972578173, 153.6603296714692, 89.70147520615518, 44.0439085748301, 46.509030212960226, 43.12513873914003, 40.33870829699559, 274.6382085043191, 124.98831161221015, 65.64083200900274, 37.026739777786666, 150.27327726920453, 11.81101449378776, 34.98756119911019, 120.28286586375047, 52.63800191721288, 46.40054474568531, 42.30900817360245, 130.50835882448033, 426.90205330558496, 257.6309318700083, 151.88928883329575, 170.58277173968582, 222.9969739555543, 254.67870703708704, 161.7895564489852, 197.51986975199307, 206.4108116915859, 430.57638764532777, 126.42694379904701, 613.1879152228564, 238.81658166556818, 111.946352285316, 233.4389520574661, 131.60084873736585, 12.151755905704942, 24.301209005954643, 11.007164735162364, 11.1529321012395, 16.16235972728307, 8.091805533557775, 28.11340694575241, 22.106856888224602, 15.775712154280178, 12.12813771212815, 11.017040444318114, 7.024969312392322, 12.152629918084846, 17.150591779738292, 12.146691486906493, 12.109912845212015, 7.119882248342695, 22.081680476872027, 7.10166945956335, 7.1220047112777065, 106.50426143843535, 7.12953672418385, 6.972705168590828, 7.04780079702696, 7.129044380706543, 100.48384497756724, 7.085150178392773, 35.14271259569481, 23.20703599622982, 28.261363309469424, 54.75986587348564, 51.27836033302036, 27.571275035668876, 148.62744513836495, 40.03523226343202, 23.179776222718086, 45.639615976753255, 24.10735687071603, 28.79051390974531, 613.1879152228564, 144.11228303800073, 75.01969260659695, 43.019001450096845, 117.07189018487082, 127.25389410536687, 105.7737747130513, 233.4389520574661, 125.47435709549994, 71.79376349205093, 89.00770929464313, 238.81658166556818, 36.974350624090164, 79.37054111018233, 93.57281939474052, 99.57973874058816, 430.57638764532777, 136.54928122711053, 144.62776028732452, 46.998829151859645, 89.56803397579182, 117.91678675213376, 75.39676754772819, 131.60084873736585, 51.10386646940178, 206.4108116915859, 100.41235589570856, 426.90205330558496, 254.67870703708704, 197.51986975199307, 222.9969739555543, 257.6309318700083, 5.7875801512647245, 4.511741117219821, 8.163589162447131, 10.539047347632646, 4.254685952701884, 20.67995775295809, 9.419688455919392, 7.846279734835121, 6.172625970356205, 13.00374941601487, 42.30900817360245, 10.642429701022309, 7.056358187994561, 6.432148853314301, 6.38052637069661, 10.615282178755132, 15.889032859935142, 6.472898011263554, 6.3861318685338535, 6.4540347200862325, 6.470033346828865, 6.481046447473913, 7.388497428135833, 7.383237327177301, 52.9968532812166, 7.39055736213354, 7.35124704115229, 7.4471749454005405, 7.388136624601496, 8.340251703568207, 20.664639071078415, 21.622264081811768, 15.775712154280178, 18.663994317664766, 84.72115643182912, 37.872586716501374, 89.70147520615518, 426.90205330558496, 23.443330003285524, 27.18619571436359, 430.57638764532777, 11.81101449378776, 257.6309318700083, 124.98831161221015, 25.420074715988243, 150.27327726920453, 274.6382085043191, 170.58277173968582, 254.67870703708704, 153.6603296714692, 613.1879152228564, 107.3594957034508, 155.6445857554214, 197.51986975199307, 193.65145706619924, 173.5854689514014, 238.81658166556818, 144.62776028732452, 206.4108116915859, 222.9969739555543, 161.7895564489852, 131.08465757897906, 95.35995756035011, 151.88928883329575, 130.50835882448033, 4.511741117219821, 4.254685952701884, 5.7875801512647245, 6.3861318685338535, 6.4540347200862325, 6.432148853314301, 7.056358187994561, 6.481046447473913, 6.38052637069661, 7.388136624601496, 7.388497428135833, 6.470033346828865, 6.172625970356205, 7.4471749454005405, 7.383237327177301, 6.972705168590828, 7.35124704115229, 7.129044380706543, 8.340527986128338, 7.846279734835121, 6.472898011263554, 7.10166945956335, 8.057022835940765, 8.404181090027274, 7.941666945404076, 7.39055736213354, 8.375773979045878, 10.615282178755132, 7.04780079702696, 7.119882248342695, 9.302532204245747, 9.419688455919392, 10.642429701022309, 8.163589162447131, 11.288472685006505, 42.30900817360245, 430.57638764532777, 16.12358872431965, 426.90205330558496, 274.6382085043191, 257.6309318700083, 170.58277173968582, 206.4108116915859, 613.1879152228564, 254.67870703708704, 222.9969739555543, 151.88928883329575, 84.72115643182912, 124.98831161221015, 148.62744513836495, 197.51986975199307, 89.70147520615518, 75.58963111357107, 136.54928122711053, 155.6445857554214, 233.4389520574661, 173.5854689514014, 193.65145706619924, 73.24150973743542, 127.25389410536687, 111.946352285316, 131.60084873736585, 153.6603296714692, 106.28838584238562, 144.62776028732452, 130.50835882448033, 144.11228303800073, 238.81658166556818, 120.28286586375047, 131.08465757897906, 150.27327726920453, 4.511741117219821, 4.254685952701884, 5.7875801512647245, 6.172625970356205, 6.3861318685338535, 7.085150178392773, 6.972705168590828, 6.38052637069661, 6.472898011263554, 6.481046447473913, 6.470033346828865, 7.024969312392322, 7.119882248342695, 6.432148853314301, 7.35124704115229, 7.39055736213354, 6.978446679910461, 6.4540347200862325, 7.056358187994561, 7.04780079702696, 7.9789255921097695, 7.982155682225494, 7.846279734835121, 7.1220047112777065, 7.383237327177301, 8.340251703568207, 7.4471749454005405, 8.066167343606866, 8.082296026794031, 8.058961481793093, 8.064981052848132, 10.539047347632646, 8.404181090027274, 426.90205330558496, 8.917299209734722, 107.3594957034508, 430.57638764532777, 274.6382085043191, 173.5854689514014, 254.67870703708704, 193.65145706619924, 153.6603296714692, 233.4389520574661, 613.1879152228564, 120.28286586375047, 95.35995756035011, 89.70147520615518, 206.4108116915859, 106.28838584238562, 52.9968532812166, 257.6309318700083, 151.88928883329575, 150.27327726920453, 197.51986975199307, 161.7895564489852, 136.54928122711053, 59.149637698685495, 155.6445857554214, 117.91678675213376, 126.42694379904701, 222.9969739555543, 148.62744513836495, 124.98831161221015, 131.08465757897906, 170.58277173968582, 130.50835882448033, 238.81658166556818], \"loglift\": [30.0, 29.0, 28.0, 27.0, 26.0, 25.0, 24.0, 23.0, 22.0, 21.0, 20.0, 19.0, 18.0, 17.0, 16.0, 15.0, 14.0, 13.0, 12.0, 11.0, 10.0, 9.0, 8.0, 7.0, 6.0, 5.0, 4.0, 3.0, 2.0, 1.0, 0.4698, 0.4611, 0.4593, 0.4561, 0.4361, 0.4084, 0.405, 0.4044, 0.3987, 0.3931, 0.3925, 0.3914, 0.3899, 0.3893, 0.389, 0.3865, 0.3802, 0.3757, 0.3706, 0.3581, 0.354, 0.3514, 0.3331, 0.3301, 0.3284, 0.3206, 0.31, 0.3079, 0.3036, 0.2991, 0.2842, 0.2878, 0.2744, 0.2705, 0.2169, 0.2062, 0.2219, 0.1753, 0.1583, 0.0092, 0.1655, -0.2182, -0.1862, 0.0977, -0.2592, -0.0287, 0.7788, 0.7769, 0.7496, 0.747, 0.7287, 0.6994, 0.6928, 0.6727, 0.6727, 0.6726, 0.6725, 0.6717, 0.6708, 0.6691, 0.6676, 0.6666, 0.6663, 0.6659, 0.6646, 0.6633, 0.6597, 0.6596, 0.6588, 0.6539, 0.6518, 0.6515, 0.6478, 0.6473, 0.6416, 0.6407, 0.6275, 0.6053, 0.6153, 0.5542, 0.6006, 0.6184, 0.5878, 0.6149, 0.5848, 0.2834, 0.4254, 0.4787, 0.5393, 0.4249, 0.4111, 0.4277, 0.3199, 0.3824, 0.4544, 0.4081, 0.2479, 0.5417, 0.3844, 0.3468, 0.3282, -0.0, 0.2531, 0.2351, 0.4878, 0.3039, 0.2154, 0.3043, 0.0524, 0.4543, -0.2832, 0.0965, -0.6858, -0.4151, -0.3332, -0.4367, -0.7027, 2.7627, 2.6466, 2.306, 2.3015, 2.2561, 2.0913, 2.021, 1.9733, 1.9372, 1.8505, 1.8015, 1.7618, 1.738, 1.7, 1.696, 1.6884, 1.6881, 1.6717, 1.6677, 1.6636, 1.6636, 1.6612, 1.6131, 1.5879, 1.5845, 1.5711, 1.564, 1.563, 1.504, 1.4788, 1.4489, 1.4043, 1.3421, 1.1835, 0.5391, 0.8789, 0.4922, -0.3094, 1.0559, 0.9686, -0.4354, 1.3676, -0.2769, 0.1113, 0.9594, -0.0513, -0.4325, -0.1569, -0.4122, -0.1011, -0.9863, 0.0778, -0.178, -0.3608, -0.4177, -0.3453, -0.6457, -0.2692, -0.5934, -0.6819, -0.4252, -0.2397, 0.0414, -0.4023, -0.2628, 1.7263, 1.6403, 1.5565, 1.5208, 1.4279, 1.412, 1.3779, 1.359, 1.3565, 1.3562, 1.3357, 1.3297, 1.326, 1.2872, 1.2814, 1.274, 1.268, 1.2349, 1.2123, 1.209, 1.2013, 1.1863, 1.184, 1.1823, 1.1706, 1.1704, 1.1609, 1.1593, 1.1577, 1.1525, 1.1345, 1.1235, 1.0831, 1.1396, 1.024, 0.5293, -0.3626, 0.8861, -0.4636, -0.3193, -0.2919, -0.1305, -0.2334, -0.7566, -0.4397, -0.3954, -0.2115, 0.0643, -0.1436, -0.2372, -0.4081, -0.0105, 0.0588, -0.2722, -0.351, -0.5925, -0.434, -0.5002, 0.0348, -0.2897, -0.2202, -0.3186, -0.4168, -0.206, -0.3944, -0.3388, -0.4129, -0.7586, -0.3152, -0.3877, -0.5048, 1.8282, 1.7666, 1.5771, 1.4614, 1.451, 1.3993, 1.3796, 1.3747, 1.3679, 1.3668, 1.3476, 1.3472, 1.3298, 1.3286, 1.3114, 1.2942, 1.2896, 1.2868, 1.2855, 1.2824, 1.2771, 1.2712, 1.2663, 1.2588, 1.2556, 1.2525, 1.2472, 1.2459, 1.244, 1.2406, 1.2366, 1.1624, 1.2165, -0.3248, 1.1814, 0.1045, -0.5493, -0.3582, -0.182, -0.3933, -0.3084, -0.2244, -0.4651, -1.0024, -0.1664, -0.051, -0.0213, -0.4699, -0.1304, 0.2355, -0.6257, -0.3399, -0.3397, -0.5038, -0.3926, -0.3007, 0.1627, -0.3923, -0.2366, -0.2847, -0.6387, -0.4582, -0.3576, -0.388, -0.5592, -0.3993, -0.9218], \"logprob\": [30.0, 29.0, 28.0, 27.0, 26.0, 25.0, 24.0, 23.0, 22.0, 21.0, 20.0, 19.0, 18.0, 17.0, 16.0, 15.0, 14.0, 13.0, 12.0, 11.0, 10.0, 9.0, 8.0, 7.0, 6.0, 5.0, 4.0, 3.0, 2.0, 1.0, -4.223, -4.4034, -4.6149, -4.6081, -5.0105, -4.7743, -5.2553, -4.1793, -4.0756, -5.4015, -5.5416, -6.0467, -4.3157, -4.8546, -5.5661, -5.5142, -5.5961, -5.6673, -3.7544, -4.5541, -5.2022, -5.7774, -4.3948, -6.9412, -5.857, -4.63, -5.467, -5.5952, -5.6917, -4.5699, -3.3997, -3.901, -4.4428, -4.3306, -4.1163, -3.9942, -4.4321, -4.2793, -4.2522, -3.6661, -4.7352, -3.5399, -4.4509, -4.9246, -4.5467, -4.8893, -6.4641, -5.773, -6.5922, -6.5817, -6.229, -6.9501, -5.7113, -5.9718, -6.3092, -6.5723, -6.6685, -7.1192, -6.572, -6.2293, -6.5757, -6.5797, -7.1112, -5.9798, -7.1154, -7.1139, -4.4125, -7.1165, -7.1395, -7.1337, -7.1244, -4.4789, -7.1346, -5.5337, -5.9543, -5.7582, -5.1099, -5.1979, -5.8083, -4.1847, -5.4501, -5.9787, -5.3318, -5.9429, -5.7955, -3.0383, -4.3444, -4.9439, -5.4394, -4.5527, -4.4831, -4.6514, -3.9676, -4.5259, -5.0122, -4.8435, -4.0168, -5.5885, -4.9818, -4.8549, -4.8112, -3.6753, -4.5705, -4.5311, -5.4025, -4.9415, -4.755, -5.1133, -4.8082, -5.3522, -4.6938, -5.0346, -4.3696, -4.6155, -4.7877, -4.7699, -4.8916, -5.222, -5.5871, -5.3347, -5.0838, -6.0362, -4.6199, -5.4765, -5.7071, -5.9831, -5.3246, -4.1938, -5.6137, -6.0485, -6.179, -6.1911, -5.6897, -5.2867, -6.2011, -6.2186, -6.2121, -6.2096, -6.2103, -6.1273, -6.1532, -4.1857, -6.1691, -6.1815, -6.1696, -6.2365, -6.1405, -5.2631, -5.2623, -5.6398, -5.6303, -4.762, -5.2273, -4.7517, -3.9932, -5.5299, -5.469, -4.1106, -5.9038, -4.4657, -4.8009, -5.5454, -4.7792, -4.5574, -4.758, -4.6126, -4.8067, -4.308, -4.9864, -4.8708, -4.8153, -4.892, -4.929, -4.9103, -5.0354, -5.0039, -5.0151, -5.0793, -5.1042, -5.1413, -5.1196, -5.1317, -6.5074, -6.6521, -6.4281, -6.3655, -6.4477, -6.467, -6.4086, -6.5125, -6.5306, -6.3843, -6.4048, -6.5435, -6.5943, -6.4453, -6.4598, -6.5244, -6.4775, -6.5413, -6.4069, -6.4713, -6.6714, -6.5937, -6.4699, -6.4294, -6.4976, -6.5698, -6.4542, -6.2188, -6.6299, -6.625, -6.3756, -6.3741, -6.2924, -6.5011, -6.2926, -5.4661, -4.0379, -6.074, -4.1475, -4.4442, -4.4808, -4.7317, -4.6439, -4.0783, -4.64, -4.7286, -4.9288, -5.2367, -5.0558, -4.9761, -4.8626, -5.2544, -5.3562, -5.0959, -5.0438, -4.88, -5.0177, -4.9745, -5.4118, -5.1839, -5.2426, -5.1792, -5.1225, -5.2802, -5.1606, -5.2077, -5.1827, -5.0233, -5.2657, -5.2523, -5.2327, -6.4055, -6.5257, -6.4076, -6.4588, -6.4353, -6.3831, -6.4188, -6.5124, -6.5048, -6.5047, -6.5256, -6.4437, -6.4477, -6.5505, -6.4341, -6.446, -6.508, -6.5889, -6.5009, -6.5053, -6.3865, -6.3919, -6.414, -6.5184, -6.4855, -6.3667, -6.4853, -6.4068, -6.4067, -6.413, -6.4163, -6.2229, -6.3951, -4.0086, -6.371, -4.9597, -4.2245, -4.4832, -4.7657, -4.5937, -4.7827, -4.93, -4.7525, -4.3241, -5.1169, -5.2337, -5.2652, -4.8804, -5.2046, -5.5347, -4.8146, -5.0571, -5.0677, -4.9583, -5.0467, -5.1244, -5.4976, -5.0851, -5.207, -5.1854, -4.9719, -5.1971, -5.2697, -5.2525, -5.1603, -5.2682, -5.1865]}, \"token.table\": {\"Topic\": [1, 2, 1, 2, 1, 2, 3, 1, 2, 3, 1, 2, 3, 1, 2, 3, 1, 2, 3, 1, 2, 1, 2, 3, 1, 2, 3, 1, 2, 1, 2, 3, 1, 2, 3, 1, 2, 3, 1, 2, 3, 1, 2, 1, 2, 3, 1, 2, 1, 2, 3, 1, 2, 1, 2, 3, 1, 2, 3, 1, 2, 3, 1, 2, 3, 1, 2, 3, 1, 2, 3, 1, 2, 3, 1, 2, 1, 2, 3, 1, 2, 3, 1, 2, 3, 1, 2, 1, 2, 3, 1, 2, 3, 1, 2, 1, 2, 1, 2, 3, 1, 2, 3, 1, 2, 3, 1, 2, 1, 2, 3, 1, 2, 3, 1, 2, 3, 1, 2, 3, 1, 2, 1, 2, 3, 1, 2, 1, 2, 1, 2, 3, 1, 2, 1, 2, 1, 2, 3, 1, 2, 3, 1, 2, 3, 1, 2, 3, 1, 2, 3, 1, 2, 3, 1, 2, 1, 2, 3, 1, 2, 1, 2, 1, 2, 3, 1, 2, 1, 2, 3, 1, 2, 1, 2, 1, 2, 3, 1, 2, 3, 1, 2, 3, 1, 2, 3, 1, 2, 1, 2, 3, 1, 2, 1, 2, 1, 2, 1, 2, 3, 1, 2, 3, 1, 2, 3, 1, 2, 3, 1, 2, 3, 1, 2, 3, 1, 2, 1, 2, 3, 1, 2, 3, 1, 2, 3, 1, 2, 3, 1, 2, 3, 1, 2, 3, 1, 2, 1, 2, 3, 1, 2, 3, 1, 2, 3, 1, 2, 3, 1, 2, 3, 1, 2, 3, 1, 2, 1, 2, 3, 1, 2, 1, 2, 3, 1, 2, 3, 1, 2, 1, 2, 3, 1, 2, 3, 1, 2, 3, 1, 2, 1, 2, 3, 1, 2, 1, 2, 3, 1, 2, 3, 1, 2, 3, 1, 2, 3, 1, 2, 3, 1, 2, 3, 1, 2, 3, 1, 2, 3, 1, 2, 1, 2, 1, 2, 1, 2, 3, 1, 2, 3, 1, 2, 1, 2, 3, 1, 2, 3, 1, 2, 3, 1, 2, 3, 1, 2, 3, 1, 2, 3, 1, 2, 1, 2, 3, 1, 2, 1, 2, 1, 2, 3, 1, 2, 1, 2, 3, 1, 2, 1, 2, 3, 1, 2, 3, 1, 2, 3, 1, 2, 1, 2, 1, 2, 3, 1, 2, 3, 1, 2, 1, 2, 3, 1, 2, 3, 1, 2, 1, 2, 1, 2, 3, 1, 2, 3, 1, 2, 3, 1, 2, 3, 1, 2, 3, 1, 2, 3, 1, 2, 3, 1, 2, 3, 1, 2, 3, 1, 2, 3, 1, 2, 3, 1, 2, 3, 1, 2, 3], \"Freq\": [0.37197855523052414, 0.6199642587175402, 0.18153695723532287, 0.7261478289412915, 0.27786930184987346, 0.6946732546246837, 0.03473366273123418, 0.8665946420789338, 0.12379923458270482, 0.010923461874944545, 0.3760772341038991, 0.6128666037248726, 0.013928786448292558, 0.6621007289552417, 0.2942669906467741, 0.03678337383084676, 0.40246395919427685, 0.5898178712329919, 0.00693903377921167, 0.2822805374117968, 0.705701343529492, 0.42837052040254, 0.5669609828857147, 0.012599132953015882, 0.31622692535853847, 0.6728232454436989, 0.006728232454436988, 0.2560986143426661, 0.7398404414343688, 0.7276130229735374, 0.25135722611813105, 0.013229327690427952, 0.7478851086296984, 0.24105387798808459, 0.012361737332722287, 0.35817585425600795, 0.47756780567467727, 0.11939195141866932, 0.4014627245343118, 0.5893814466567556, 0.00854176009647472, 0.3732353336454192, 0.6265021671905251, 0.45775259520691675, 0.5247407798713436, 0.01116469744407114, 0.37583832230688513, 0.6263972038448086, 0.8811565854862168, 0.09275332478802283, 0.023188331197005706, 0.16460086405659327, 0.8230043202829663, 0.8288660028335308, 0.14290793152302256, 0.02858158630460451, 0.6964022032380348, 0.2714788249910983, 0.023606854347052026, 0.47101903800604916, 0.37681523040483933, 0.09420380760120983, 0.6822302520907395, 0.2480837280329962, 0.06202093200824905, 0.5971847855248352, 0.3412484488713344, 0.0426560561089168, 0.24879621202374555, 0.7463886360712366, 0.009951848480949823, 0.6610309178399785, 0.33051545891998924, 0.00893285024108079, 0.3759904720714092, 0.6266507867856819, 0.7399780124533255, 0.18499450311333138, 0.046248625778332844, 0.8230598704901289, 0.16627472131113713, 0.008313736065556857, 0.31345376287217586, 0.6269075257443517, 0.15672688143608793, 0.2846987525585231, 0.7117468813963078, 0.8189559025281388, 0.17241176895329238, 0.021551471119161548, 0.8676529685162672, 0.09916033925900196, 0.02479008481475049, 0.2477309323647306, 0.7431927970941917, 0.28683272153957956, 0.7170818038489488, 0.4080940258443222, 0.5441253677924296, 0.1360313419481074, 0.4299904490708852, 0.4299904490708852, 0.1074976122677213, 0.5472022998444385, 0.37738089644444034, 0.07547617928888807, 0.2473586688416307, 0.7420760065248921, 0.8929318850035497, 0.09217361393585029, 0.011521701741981286, 0.8832511955438049, 0.07360426629531708, 0.03680213314765854, 0.7138522325730586, 0.2784529985214058, 0.010125563582596576, 0.8881936785076823, 0.09811441797468583, 0.010327833471019562, 0.2471636264249973, 0.741490879274992, 0.3109380777109127, 0.6218761554218254, 0.15546903885545635, 0.28377646553853775, 0.7094411638463444, 0.18169983352852023, 0.8176492508783411, 0.9459535714565945, 0.038143289171636875, 0.015257315668654752, 0.24686014634047007, 0.7405804390214102, 0.3617111384854009, 0.6383137737977662, 0.957309239359841, 0.03212447111945775, 0.012849788447783101, 0.497829737921415, 0.4909154360058398, 0.013828603831150418, 0.30898061370962127, 0.6179612274192425, 0.15449030685481063, 0.4759535708656438, 0.4759535708656438, 0.11898839271641096, 0.406036549268573, 0.5413820656914307, 0.13534551642285766, 0.3098836753659853, 0.6197673507319706, 0.15494183768299266, 0.372256401371025, 0.620427335618375, 0.3823468065611914, 0.5097957420815885, 0.12744893552039713, 0.24768798034787437, 0.743063941043623, 0.3711816530914665, 0.6186360884857774, 0.4223970636459297, 0.5658526701671889, 0.00796975591784773, 0.251836297561864, 0.6295907439046599, 0.40632582525244865, 0.5417677670032649, 0.13544194175081622, 0.33642473235898585, 0.5607078872649764, 0.22643204194702998, 0.769868942619902, 0.3131786253670277, 0.6263572507340553, 0.15658931268351384, 0.46421088248702513, 0.5305267228423144, 0.013263168071057862, 0.8318178871954117, 0.15305449124395576, 0.013309086195126588, 0.8045461681210295, 0.18389626699909248, 0.015324688916591039, 0.37192384836619574, 0.6198730806103263, 0.36748542097146825, 0.489980561295291, 0.12249514032382275, 0.2805231359866442, 0.7013078399666105, 0.32454931046663343, 0.6761443968054863, 0.25884632976393906, 0.7333979343311607, 0.4156943291003987, 0.5842190571140738, 0.011234981867578344, 0.4488734853854852, 0.501682130724954, 0.02640432266973442, 0.40592337668209993, 0.5412311689094665, 0.13530779222736664, 0.5357909903849133, 0.42863279230793067, 0.05357909903849133, 0.940836566549137, 0.03763346266196548, 0.00940836566549137, 0.8960325381870908, 0.08453137152708404, 0.01690627430541681, 0.8372327724786002, 0.13503754394816134, 0.9407644786166186, 0.03725799915313341, 0.018628999576566704, 0.5775038742468314, 0.41033170012274855, 0.015197470374916614, 0.7258776670817122, 0.19356737788845657, 0.04839184447211414, 0.7085808099292386, 0.14171616198584772, 0.14171616198584772, 0.4432878456537904, 0.2216439228268952, 0.2216439228268952, 0.8854799962573586, 0.09081846115460088, 0.02270461528865022, 0.2805425093737156, 0.7013562734342891, 0.6152071794114655, 0.30760358970573276, 0.07690089742643319, 0.4405554486359451, 0.503491941298223, 0.06293649266227787, 0.8892838564926269, 0.08892838564926268, 0.02223209641231567, 0.6038417513367359, 0.3878522018201342, 0.009289873097488244, 0.8806990054337382, 0.08918470941101148, 0.02229617735275287, 0.4626477245897396, 0.5311881282326639, 0.004283775227682774, 0.2585422800643198, 0.7325364601822393, 0.885069036951648, 0.10412576905313506, 0.013015721131641882, 0.27392324215430375, 0.7304619790781434, 0.7039638650244021, 0.2847494285491964, 0.007909706348588787, 0.35968945910732397, 0.47958594547643196, 0.11989648636910799, 0.32543758637076603, 0.6741207146251582, 0.8560800495647877, 0.12801197002837947, 0.016001496253547434, 0.28484025822262854, 0.7011452510095472, 0.02191078909404835, 0.3970738504316389, 0.5956107756474583, 0.009454139295991402, 0.2809035220302334, 0.7022588050755835, 0.7957119066100182, 0.19019455328727264, 0.011644564486975876, 0.22617416963798642, 0.7689921767691539, 0.9018460389474637, 0.08389265478581058, 0.020973163696452645, 0.8815492348962143, 0.08600480340450871, 0.021501200851127177, 0.44884829025853534, 0.5450300667425072, 0.010686864053774652, 0.40605637827681823, 0.5414085043690909, 0.13535212609227273, 0.49798870699950093, 0.49798870699950093, 0.0073233633382279555, 0.2538874241740406, 0.7253926404972588, 0.03626963202486294, 0.3091174176065496, 0.6182348352130992, 0.1545587088032748, 0.8466673210213823, 0.08466673210213824, 0.08466673210213824, 0.2816239211621898, 0.7040598029054745, 0.2441216872343579, 0.7511436530287936, 0.2747579913517161, 0.6993839779861863, 0.45189915708885314, 0.5422789885066237, 0.010042203490863403, 0.40283732045973136, 0.5371164272796418, 0.13427910681991045, 0.2903677926012338, 0.7051789248887106, 0.4835599820589376, 0.38684798564715006, 0.14506799461768127, 0.803611369486401, 0.09454251405722365, 0.09454251405722365, 0.4860168126835131, 0.3240112084556754, 0.1620056042278377, 0.7855424005214772, 0.20517898521083358, 0.011724513440619063, 0.6976378747793568, 0.290682447824732, 0.009689414927491067, 0.6294237990550288, 0.3147118995275144, 0.0393389874409393, 0.18561646013458127, 0.8043379939165188, 0.23503497346612923, 0.47006994693225845, 0.23503497346612923, 0.24698083451233163, 0.7409425035369949, 0.3723459720900381, 0.6205766201500635, 0.8169003084051105, 0.1709791343173487, 0.018997681590816523, 0.28081980861835104, 0.7020495215458776, 0.1901657415311078, 0.7606629661244312, 0.06338858051036926, 0.16458526780158994, 0.8229263390079498, 0.4086318958297947, 0.581514620988554, 0.007858305689034513, 0.7342584787536578, 0.25522353539565645, 0.011779547787491835, 0.7399203544030435, 0.2511244839186087, 0.008968731568521739, 0.21342130505838697, 0.7825447852140855, 0.233228103809549, 0.7579913373810342, 0.8531275166091666, 0.13710977945504463, 0.015234419939449404, 0.0948852364938494, 0.7590818919507952, 0.1897704729876988, 0.1793250404328855, 0.8069626819479847, 0.3085921411317042, 0.6171842822634084, 0.1542960705658521, 0.49410304417322154, 0.49410304417322154, 0.008374627867342738, 0.29252105376584847, 0.7020505290380363, 0.2865967301516534, 0.7164918253791335, 0.35970137432621024, 0.479601832434947, 0.11990045810873674, 0.7834653839916718, 0.20409602440119182, 0.013167485445238181, 0.5315156591528345, 0.35434377276855633, 0.08858594319213908, 0.7940931587821084, 0.19442398872836283, 0.011712288477612218, 0.5308031176825141, 0.31848187060950844, 0.10616062353650281, 0.46981752667999316, 0.37585402134399454, 0.09396350533599863, 0.5577002899739089, 0.4282341512299657, 0.009958933749534087, 0.17278378421791293, 0.5183513526537388, 0.17278378421791293, 0.5088334040692833, 0.48339173386581924, 0.008480556734488056, 0.9284352581449264, 0.05461383871440744, 0.01365345967860186, 0.37179182932031507, 0.6066077215226193, 0.019567991016858688, 0.8894454577010568, 0.09667885409794094, 0.019335770819588188, 0.47946150389012304, 0.513708754167989, 0.0065232857672125584], \"Term\": [\"accept\", \"accept\", \"accused\", \"accused\", \"acts\", \"acts\", \"acts\", \"affairs\", \"affairs\", \"affairs\", \"agencies\", \"agencies\", \"agencies\", \"agreement\", \"agreement\", \"agreement\", \"aid\", \"aid\", \"aid\", \"allegation\", \"allegation\", \"announce\", \"announce\", \"announce\", \"announcement\", \"announcement\", \"announcement\", \"answer\", \"answer\", \"associate\", \"associate\", \"associate\", \"august\", \"august\", \"august\", \"author\", \"author\", \"author\", \"authority\", \"authority\", \"authority\", \"benefit\", \"benefit\", \"branch\", \"branch\", \"branch\", \"brazen\", \"brazen\", \"carolyn\", \"carolyn\", \"carolyn\", \"categorical\", \"categorical\", \"charles\", \"charles\", \"charles\", \"cipollone\", \"cipollone\", \"cipollone\", \"cited\", \"cited\", \"cited\", \"claim\", \"claim\", \"claim\", \"company\", \"company\", \"company\", \"conditioned\", \"conditioned\", \"conditioned\", \"congressional\", \"congressional\", \"congressional\", \"consult\", \"consult\", \"contact\", \"contact\", \"contact\", \"council\", \"council\", \"council\", \"crazy\", \"crazy\", \"crazy\", \"crescendo\", \"crescendo\", \"croft\", \"croft\", \"croft\", \"david\", \"david\", \"david\", \"deeply\", \"deeply\", \"defied\", \"defied\", \"deliverable\", \"deliverable\", \"deliverable\", \"demands\", \"demands\", \"demands\", \"democrats\", \"democrats\", \"democrats\", \"demonstrate\", \"demonstrate\", \"deputy\", \"deputy\", \"deputy\", \"devin\", \"devin\", \"devin\", \"did\", \"did\", \"did\", \"document\", \"document\", \"document\", \"don\", \"don\", \"doubling\", \"doubling\", \"doubling\", \"dramatic\", \"dramatic\", \"driven\", \"driven\", \"eliot\", \"eliot\", \"eliot\", \"endangered\", \"endangered\", \"engaged\", \"engaged\", \"engel\", \"engel\", \"engel\", \"executive\", \"executive\", \"executive\", \"exercising\", \"exercising\", \"exercising\", \"faced\", \"faced\", \"faced\", \"facilitated\", \"facilitated\", \"facilitated\", \"fails\", \"fails\", \"fails\", \"faith\", \"faith\", \"family\", \"family\", \"family\", \"far\", \"far\", \"focus\", \"focus\", \"following\", \"following\", \"following\", \"goldman\", \"goldman\", \"governments\", \"governments\", \"governments\", \"hard\", \"hard\", \"harm\", \"harm\", \"harmed\", \"harmed\", \"harmed\", \"help\", \"help\", \"help\", \"hill\", \"hill\", \"hill\", \"holmes\", \"holmes\", \"holmes\", \"imagine\", \"imagine\", \"impeachable\", \"impeachable\", \"impeachable\", \"incident\", \"incident\", \"influence\", \"influence\", \"integrity\", \"integrity\", \"interests\", \"interests\", \"interests\", \"interfered\", \"interfered\", \"interfered\", \"intimidated\", \"intimidated\", \"intimidated\", \"join\", \"join\", \"join\", \"kent\", \"kent\", \"kent\", \"know\", \"know\", \"know\", \"kupperman\", \"kupperman\", \"kurt\", \"kurt\", \"kurt\", \"later\", \"later\", \"later\", \"laura\", \"laura\", \"laura\", \"lawyer\", \"lawyer\", \"lawyer\", \"leading\", \"leading\", \"leading\", \"lev\", \"lev\", \"lev\", \"logjam\", \"logjam\", \"lunch\", \"lunch\", \"lunch\", \"majority\", \"majority\", \"majority\", \"maloney\", \"maloney\", \"maloney\", \"meeting\", \"meeting\", \"meeting\", \"michael\", \"michael\", \"michael\", \"military\", \"military\", \"military\", \"minority\", \"minority\", \"morrison\", \"morrison\", \"morrison\", \"nation\", \"nation\", \"new\", \"new\", \"new\", \"north\", \"north\", \"north\", \"obstruction\", \"obstruction\", \"omb\", \"omb\", \"omb\", \"opponent\", \"opponent\", \"opponent\", \"order\", \"order\", \"order\", \"outlines\", \"outlines\", \"oversight\", \"oversight\", \"oversight\", \"overwhelming\", \"overwhelming\", \"parnas\", \"parnas\", \"parnas\", \"pat\", \"pat\", \"pat\", \"pence\", \"pence\", \"pence\", \"persisted\", \"persisted\", \"persisted\", \"presidential\", \"presidential\", \"presidential\", \"pressed\", \"pressed\", \"pressed\", \"prospective\", \"prospective\", \"prospective\", \"push\", \"push\", \"push\", \"recommending\", \"recommending\", \"reelection\", \"reelection\", \"refusal\", \"refusal\", \"representatives\", \"representatives\", \"representatives\", \"revelation\", \"revelation\", \"revelation\", \"rival\", \"rival\", \"says\", \"says\", \"says\", \"senate\", \"senate\", \"senate\", \"send\", \"send\", \"send\", \"sent\", \"sent\", \"sent\", \"september\", \"september\", \"september\", \"set\", \"set\", \"set\", \"solicited\", \"solicited\", \"spokesman\", \"spokesman\", \"spokesman\", \"standard\", \"standard\", \"step\", \"step\", \"story\", \"story\", \"story\", \"stronger\", \"stronger\", \"subordinates\", \"subordinates\", \"subordinates\", \"subpoenaed\", \"subpoenaed\", \"subpoenas\", \"subpoenas\", \"subpoenas\", \"taylor\", \"taylor\", \"taylor\", \"testified\", \"testified\", \"testified\", \"threat\", \"threat\", \"tied\", \"tied\", \"times\", \"times\", \"times\", \"tuesday\", \"tuesday\", \"tuesday\", \"unanswered\", \"unanswered\", \"uncovering\", \"uncovering\", \"uncovering\", \"united\", \"united\", \"united\", \"unprecedented\", \"unprecedented\", \"urgency\", \"urgency\", \"version\", \"version\", \"version\", \"vindman\", \"vindman\", \"vindman\", \"vladimir\", \"vladimir\", \"vladimir\", \"volker\", \"volker\", \"volker\", \"vote\", \"vote\", \"vote\", \"wants\", \"wants\", \"wants\", \"washington\", \"washington\", \"washington\", \"wednesday\", \"wednesday\", \"wednesday\", \"whistleblower\", \"whistleblower\", \"whistleblower\", \"williams\", \"williams\", \"williams\", \"work\", \"work\", \"work\", \"york\", \"york\", \"york\", \"zelensky\", \"zelensky\", \"zelensky\"]}, \"R\": 30, \"lambda.step\": 0.01, \"plot.opts\": {\"xlab\": \"PC1\", \"ylab\": \"PC2\"}, \"topic.order\": [5, 4, 3, 2, 1]};\n",
       "\n",
       "function LDAvis_load_lib(url, callback){\n",
       "  var s = document.createElement('script');\n",
       "  s.src = url;\n",
       "  s.async = true;\n",
       "  s.onreadystatechange = s.onload = callback;\n",
       "  s.onerror = function(){console.warn(\"failed to load library \" + url);};\n",
       "  document.getElementsByTagName(\"head\")[0].appendChild(s);\n",
       "}\n",
       "\n",
       "if(typeof(LDAvis) !== \"undefined\"){\n",
       "   // already loaded: just create the visualization\n",
       "   !function(LDAvis){\n",
       "       new LDAvis(\"#\" + \"ldavis_el217051404006348068646525293963\", ldavis_el217051404006348068646525293963_data);\n",
       "   }(LDAvis);\n",
       "}else if(typeof define === \"function\" && define.amd){\n",
       "   // require.js is available: use it to load d3/LDAvis\n",
       "   require.config({paths: {d3: \"https://cdnjs.cloudflare.com/ajax/libs/d3/3.5.5/d3.min\"}});\n",
       "   require([\"d3\"], function(d3){\n",
       "      window.d3 = d3;\n",
       "      LDAvis_load_lib(\"https://cdn.rawgit.com/bmabey/pyLDAvis/files/ldavis.v1.0.0.js\", function(){\n",
       "        new LDAvis(\"#\" + \"ldavis_el217051404006348068646525293963\", ldavis_el217051404006348068646525293963_data);\n",
       "      });\n",
       "    });\n",
       "}else{\n",
       "    // require.js not available: dynamically load d3 & LDAvis\n",
       "    LDAvis_load_lib(\"https://cdnjs.cloudflare.com/ajax/libs/d3/3.5.5/d3.min.js\", function(){\n",
       "         LDAvis_load_lib(\"https://cdn.rawgit.com/bmabey/pyLDAvis/files/ldavis.v1.0.0.js\", function(){\n",
       "                 new LDAvis(\"#\" + \"ldavis_el217051404006348068646525293963\", ldavis_el217051404006348068646525293963_data);\n",
       "            })\n",
       "         });\n",
       "}\n",
       "</script>"
      ],
      "text/plain": [
       "PreparedData(topic_coordinates=                x           y  topics  cluster       Freq\n",
       "topic                                                    \n",
       "4     -119.746765  -56.879826       1        1  59.727028\n",
       "3      -63.186993   56.362408       2        1  38.713797\n",
       "2       50.537365  111.941399       3        1   1.549658\n",
       "1       93.300476  -11.830882       4        1   0.004760\n",
       "0        3.660819 -100.682213       5        1   0.004757, topic_info=    Category        Freq       Term       Total  loglift  logprob\n",
       "357  Default  426.000000     volker  426.000000  30.0000  30.0000\n",
       "374  Default  613.000000   zelensky  613.000000  29.0000  29.0000\n",
       "211  Default  430.000000    meeting  430.000000  28.0000  28.0000\n",
       "8    Default  274.000000    affairs  274.000000  27.0000  27.0000\n",
       "242  Default  257.000000  oversight  257.000000  26.0000  26.0000\n",
       "..       ...         ...        ...         ...      ...      ...\n",
       "234   Topic5    0.004158        omb  124.988312  -0.3576  -5.2697\n",
       "120   Topic5    0.004231      eliot  131.084658  -0.3880  -5.2525\n",
       "304   Topic5    0.004639       sent  170.582772  -0.5592  -5.1603\n",
       "165   Topic5    0.004165     holmes  130.508359  -0.3993  -5.2682\n",
       "347   Topic5    0.004519     united  238.816582  -0.9218  -5.1865\n",
       "\n",
       "[350 rows x 6 columns], token_table=      Topic      Freq      Term\n",
       "term                           \n",
       "0         1  0.371979    accept\n",
       "0         2  0.619964    accept\n",
       "2         1  0.181537   accused\n",
       "2         2  0.726148   accused\n",
       "4         1  0.277869      acts\n",
       "...     ...       ...       ...\n",
       "373       2  0.096679      york\n",
       "373       3  0.019336      york\n",
       "374       1  0.479462  zelensky\n",
       "374       2  0.513709  zelensky\n",
       "374       3  0.006523  zelensky\n",
       "\n",
       "[432 rows x 3 columns], R=30, lambda_step=0.01, plot_opts={'xlab': 'PC1', 'ylab': 'PC2'}, topic_order=[5, 4, 3, 2, 1])"
      ]
     },
     "execution_count": 179,
     "metadata": {},
     "output_type": "execute_result"
    }
   ],
   "source": [
    "import pyLDAvis.sklearn\n",
    " \n",
    "pyLDAvis.enable_notebook()\n",
    "panel = pyLDAvis.sklearn.prepare(lda_model, data_vectorized, vectorizer, mds='tsne')\n",
    "panel"
   ]
  },
  {
   "cell_type": "code",
   "execution_count": null,
   "metadata": {},
   "outputs": [],
   "source": []
  },
  {
   "cell_type": "code",
   "execution_count": null,
   "metadata": {},
   "outputs": [],
   "source": []
  },
  {
   "cell_type": "code",
   "execution_count": null,
   "metadata": {},
   "outputs": [],
   "source": []
  },
  {
   "cell_type": "code",
   "execution_count": null,
   "metadata": {},
   "outputs": [],
   "source": []
  },
  {
   "cell_type": "code",
   "execution_count": null,
   "metadata": {},
   "outputs": [],
   "source": []
  },
  {
   "cell_type": "code",
   "execution_count": null,
   "metadata": {},
   "outputs": [],
   "source": []
  }
 ],
 "metadata": {
  "kernelspec": {
   "display_name": "Python 3",
   "language": "python",
   "name": "python3"
  },
  "language_info": {
   "codemirror_mode": {
    "name": "ipython",
    "version": 3
   },
   "file_extension": ".py",
   "mimetype": "text/x-python",
   "name": "python",
   "nbconvert_exporter": "python",
   "pygments_lexer": "ipython3",
   "version": "3.7.4"
  }
 },
 "nbformat": 4,
 "nbformat_minor": 2
}
